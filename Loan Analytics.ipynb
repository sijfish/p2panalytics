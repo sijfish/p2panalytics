{
 "cells": [
  {
   "cell_type": "code",
   "execution_count": 1,
   "id": "1e45df8c-0ff8-409d-bee6-aa9f587f5756",
   "metadata": {},
   "outputs": [],
   "source": [
    "import matplotlib.pyplot as plt\n",
    "import pandas as pd\n",
    "import numpy as np"
   ]
  },
  {
   "cell_type": "code",
   "execution_count": 2,
   "id": "19372d22-aa34-41a3-aa65-dc7dc64723a3",
   "metadata": {
    "tags": []
   },
   "outputs": [],
   "source": [
    "##########################\n",
    "save_history = False # if true, updates portfolio and platform history files.\n",
    "##########################\n",
    "today = pd.to_datetime('today').normalize()\n",
    "loans_df = pd.read_csv('data/concatenated.csv')\n",
    "cash_df = pd.read_csv('data/cash.csv', index_col='platform_account_name')\n",
    "transactions_df = pd.read_csv('data/transactions.csv')\n",
    "#platform_dict = { 'loanpad':'Loanpad 60d Access','proplend':'Proplend' }\n",
    "platform_dict = { 'loanpad':'Loanpad 60d Access','proplend':'Proplend','crowdproperty':'CrowdProperty AutoInvest','invest_fund':'Invest & Fund','assetz_capital':'Assetz Capital 90d Access','kuflink':'Kuflink 24m Term 28133' }\n",
    "col_list = ['Paid in capital','Distr capital','Int bearing','Non bearing','Accr int','Residual value','DPI','RVPI','TVPI','Inv mnths','TVPI CAGR','Net AER','Blended LTV','No loans','Avg loan amt','Avg term','Max term','Avg ttm','Max ttm','Avg ext','Ext 90d','Non-perform','Long default','Short default','Int default']\n",
    "format_dict = { 'Paid in capital': '£{0:,.2f}','Distr capital': '£{0:,.2f}','Int bearing': '£{0:,.2f}','Non bearing': '£{0:,.2f}','Accr int': '£{0:,.2f}','Residual value': '£{0:,.2f}','DPI': '{0:,.2f}', 'RVPI': '{0:,.2f}', 'TVPI' : '{0:,.2f}','Inv mnths': '{:,.0f}','TVPI CAGR': '{:,.1%}','Net AER': '{:,.1%}','No loans': '{:,.0f}','Avg loan amt': '£{0:,.2f}','Blended LTV': '{:,.0%}','Avg term': '{:,.0f}','Max term': '{:,.0f}','Avg ttm': '{:,.0f}','Max ttm': '{:,.0f}','Avg ext': '{:,.0f}','Ext 90d': '{:,.0%}','Non-perform': '{:,.0%}','Long default': '£{0:,.0f}','Short default': '£{0:,.0f}','Int default': '£{0:,.0f}','Dev sector': '{:.0%}', 'Comm sector': '{:.0%}','No a/c': '{:,.0f}','Avg a/c amt': '£{0:,.0f}'}\n",
    "colours_list = ['green','blue','red','orange','purple','pink']\n",
    "def save_platform_csv(platform): # function to update platform_history.csv for all platform accounts\n",
    "    exec(platform + \"_df = pd.read_csv('data/\" + platform + \"_history.csv', index_col=0, parse_dates=[0])\") # read platform _history.csv\n",
    "    exec(platform + \"_df.loc[today] = platform_row\") # append platform row\n",
    "    exec(platform + \"_df.to_csv('data/\" + platform + \"_history.csv', index=True)\") # save platform _history.csv"
   ]
  },
  {
   "cell_type": "markdown",
   "id": "70452873-f3a8-475a-9922-56bad026256c",
   "metadata": {
    "tags": []
   },
   "source": [
    "### Platforms"
   ]
  },
  {
   "cell_type": "code",
   "execution_count": 3,
   "id": "a2ac85fe-7e09-4297-89bf-73f68d1c1609",
   "metadata": {
    "tags": []
   },
   "outputs": [
    {
     "ename": "ValueError",
     "evalue": "Can only compare identically-labeled Series objects",
     "output_type": "error",
     "traceback": [
      "\u001b[1;31m---------------------------------------------------------------------------\u001b[0m",
      "\u001b[1;31mValueError\u001b[0m                                Traceback (most recent call last)",
      "Cell \u001b[1;32mIn[3], line 23\u001b[0m\n\u001b[0;32m     21\u001b[0m         save_platform_csv(platform) \u001b[38;5;66;03m# function to update platform_history.csv for all platform accounts\u001b[39;00m\n\u001b[0;32m     22\u001b[0m     platform_df\u001b[38;5;241m.\u001b[39mloc[platform_account_name] \u001b[38;5;241m=\u001b[39m platform_row\n\u001b[1;32m---> 23\u001b[0m \u001b[43mplatform_df\u001b[49m\u001b[38;5;241;43m.\u001b[39;49m\u001b[43msort_values\u001b[49m\u001b[43m(\u001b[49m\u001b[43mby\u001b[49m\u001b[38;5;241;43m=\u001b[39;49m\u001b[38;5;124;43m'\u001b[39;49m\u001b[38;5;124;43mResidual value\u001b[39;49m\u001b[38;5;124;43m'\u001b[39;49m\u001b[43m,\u001b[49m\u001b[43m \u001b[49m\u001b[43mascending\u001b[49m\u001b[38;5;241;43m=\u001b[39;49m\u001b[38;5;28;43;01mFalse\u001b[39;49;00m\u001b[43m)\u001b[49m\u001b[38;5;241m.\u001b[39mstyle\u001b[38;5;241m.\u001b[39mformat(format_dict)\n",
      "File \u001b[1;32m~\\anaconda3\\lib\\site-packages\\pandas\\util\\_decorators.py:331\u001b[0m, in \u001b[0;36mdeprecate_nonkeyword_arguments.<locals>.decorate.<locals>.wrapper\u001b[1;34m(*args, **kwargs)\u001b[0m\n\u001b[0;32m    325\u001b[0m \u001b[38;5;28;01mif\u001b[39;00m \u001b[38;5;28mlen\u001b[39m(args) \u001b[38;5;241m>\u001b[39m num_allow_args:\n\u001b[0;32m    326\u001b[0m     warnings\u001b[38;5;241m.\u001b[39mwarn(\n\u001b[0;32m    327\u001b[0m         msg\u001b[38;5;241m.\u001b[39mformat(arguments\u001b[38;5;241m=\u001b[39m_format_argument_list(allow_args)),\n\u001b[0;32m    328\u001b[0m         \u001b[38;5;167;01mFutureWarning\u001b[39;00m,\n\u001b[0;32m    329\u001b[0m         stacklevel\u001b[38;5;241m=\u001b[39mfind_stack_level(),\n\u001b[0;32m    330\u001b[0m     )\n\u001b[1;32m--> 331\u001b[0m \u001b[38;5;28;01mreturn\u001b[39;00m func(\u001b[38;5;241m*\u001b[39margs, \u001b[38;5;241m*\u001b[39m\u001b[38;5;241m*\u001b[39mkwargs)\n",
      "File \u001b[1;32m~\\anaconda3\\lib\\site-packages\\pandas\\core\\frame.py:6923\u001b[0m, in \u001b[0;36mDataFrame.sort_values\u001b[1;34m(self, by, axis, ascending, inplace, kind, na_position, ignore_index, key)\u001b[0m\n\u001b[0;32m   6920\u001b[0m     \u001b[38;5;28;01mif\u001b[39;00m \u001b[38;5;28misinstance\u001b[39m(ascending, (\u001b[38;5;28mtuple\u001b[39m, \u001b[38;5;28mlist\u001b[39m)):\n\u001b[0;32m   6921\u001b[0m         ascending \u001b[38;5;241m=\u001b[39m ascending[\u001b[38;5;241m0\u001b[39m]\n\u001b[1;32m-> 6923\u001b[0m     indexer \u001b[38;5;241m=\u001b[39m \u001b[43mnargsort\u001b[49m\u001b[43m(\u001b[49m\n\u001b[0;32m   6924\u001b[0m \u001b[43m        \u001b[49m\u001b[43mk\u001b[49m\u001b[43m,\u001b[49m\u001b[43m \u001b[49m\u001b[43mkind\u001b[49m\u001b[38;5;241;43m=\u001b[39;49m\u001b[43mkind\u001b[49m\u001b[43m,\u001b[49m\u001b[43m \u001b[49m\u001b[43mascending\u001b[49m\u001b[38;5;241;43m=\u001b[39;49m\u001b[43mascending\u001b[49m\u001b[43m,\u001b[49m\u001b[43m \u001b[49m\u001b[43mna_position\u001b[49m\u001b[38;5;241;43m=\u001b[39;49m\u001b[43mna_position\u001b[49m\u001b[43m,\u001b[49m\u001b[43m \u001b[49m\u001b[43mkey\u001b[49m\u001b[38;5;241;43m=\u001b[39;49m\u001b[43mkey\u001b[49m\n\u001b[0;32m   6925\u001b[0m \u001b[43m    \u001b[49m\u001b[43m)\u001b[49m\n\u001b[0;32m   6926\u001b[0m \u001b[38;5;28;01melse\u001b[39;00m:\n\u001b[0;32m   6927\u001b[0m     \u001b[38;5;28;01mreturn\u001b[39;00m \u001b[38;5;28mself\u001b[39m\u001b[38;5;241m.\u001b[39mcopy()\n",
      "File \u001b[1;32m~\\anaconda3\\lib\\site-packages\\pandas\\core\\sorting.py:438\u001b[0m, in \u001b[0;36mnargsort\u001b[1;34m(items, kind, ascending, na_position, key, mask)\u001b[0m\n\u001b[0;32m    436\u001b[0m     non_nans \u001b[38;5;241m=\u001b[39m non_nans[::\u001b[38;5;241m-\u001b[39m\u001b[38;5;241m1\u001b[39m]\n\u001b[0;32m    437\u001b[0m     non_nan_idx \u001b[38;5;241m=\u001b[39m non_nan_idx[::\u001b[38;5;241m-\u001b[39m\u001b[38;5;241m1\u001b[39m]\n\u001b[1;32m--> 438\u001b[0m indexer \u001b[38;5;241m=\u001b[39m non_nan_idx[\u001b[43mnon_nans\u001b[49m\u001b[38;5;241;43m.\u001b[39;49m\u001b[43margsort\u001b[49m\u001b[43m(\u001b[49m\u001b[43mkind\u001b[49m\u001b[38;5;241;43m=\u001b[39;49m\u001b[43mkind\u001b[49m\u001b[43m)\u001b[49m]\n\u001b[0;32m    439\u001b[0m \u001b[38;5;28;01mif\u001b[39;00m \u001b[38;5;129;01mnot\u001b[39;00m ascending:\n\u001b[0;32m    440\u001b[0m     indexer \u001b[38;5;241m=\u001b[39m indexer[::\u001b[38;5;241m-\u001b[39m\u001b[38;5;241m1\u001b[39m]\n",
      "File \u001b[1;32m~\\anaconda3\\lib\\site-packages\\pandas\\core\\ops\\common.py:72\u001b[0m, in \u001b[0;36m_unpack_zerodim_and_defer.<locals>.new_method\u001b[1;34m(self, other)\u001b[0m\n\u001b[0;32m     68\u001b[0m             \u001b[38;5;28;01mreturn\u001b[39;00m \u001b[38;5;28mNotImplemented\u001b[39m\n\u001b[0;32m     70\u001b[0m other \u001b[38;5;241m=\u001b[39m item_from_zerodim(other)\n\u001b[1;32m---> 72\u001b[0m \u001b[38;5;28;01mreturn\u001b[39;00m \u001b[43mmethod\u001b[49m\u001b[43m(\u001b[49m\u001b[38;5;28;43mself\u001b[39;49m\u001b[43m,\u001b[49m\u001b[43m \u001b[49m\u001b[43mother\u001b[49m\u001b[43m)\u001b[49m\n",
      "File \u001b[1;32m~\\anaconda3\\lib\\site-packages\\pandas\\core\\arraylike.py:50\u001b[0m, in \u001b[0;36mOpsMixin.__lt__\u001b[1;34m(self, other)\u001b[0m\n\u001b[0;32m     48\u001b[0m \u001b[38;5;129m@unpack_zerodim_and_defer\u001b[39m(\u001b[38;5;124m\"\u001b[39m\u001b[38;5;124m__lt__\u001b[39m\u001b[38;5;124m\"\u001b[39m)\n\u001b[0;32m     49\u001b[0m \u001b[38;5;28;01mdef\u001b[39;00m \u001b[38;5;21m__lt__\u001b[39m(\u001b[38;5;28mself\u001b[39m, other):\n\u001b[1;32m---> 50\u001b[0m     \u001b[38;5;28;01mreturn\u001b[39;00m \u001b[38;5;28;43mself\u001b[39;49m\u001b[38;5;241;43m.\u001b[39;49m\u001b[43m_cmp_method\u001b[49m\u001b[43m(\u001b[49m\u001b[43mother\u001b[49m\u001b[43m,\u001b[49m\u001b[43m \u001b[49m\u001b[43moperator\u001b[49m\u001b[38;5;241;43m.\u001b[39;49m\u001b[43mlt\u001b[49m\u001b[43m)\u001b[49m\n",
      "File \u001b[1;32m~\\anaconda3\\lib\\site-packages\\pandas\\core\\series.py:6237\u001b[0m, in \u001b[0;36mSeries._cmp_method\u001b[1;34m(self, other, op)\u001b[0m\n\u001b[0;32m   6234\u001b[0m res_name \u001b[38;5;241m=\u001b[39m ops\u001b[38;5;241m.\u001b[39mget_op_result_name(\u001b[38;5;28mself\u001b[39m, other)\n\u001b[0;32m   6236\u001b[0m \u001b[38;5;28;01mif\u001b[39;00m \u001b[38;5;28misinstance\u001b[39m(other, Series) \u001b[38;5;129;01mand\u001b[39;00m \u001b[38;5;129;01mnot\u001b[39;00m \u001b[38;5;28mself\u001b[39m\u001b[38;5;241m.\u001b[39m_indexed_same(other):\n\u001b[1;32m-> 6237\u001b[0m     \u001b[38;5;28;01mraise\u001b[39;00m \u001b[38;5;167;01mValueError\u001b[39;00m(\u001b[38;5;124m\"\u001b[39m\u001b[38;5;124mCan only compare identically-labeled Series objects\u001b[39m\u001b[38;5;124m\"\u001b[39m)\n\u001b[0;32m   6239\u001b[0m lvalues \u001b[38;5;241m=\u001b[39m \u001b[38;5;28mself\u001b[39m\u001b[38;5;241m.\u001b[39m_values\n\u001b[0;32m   6240\u001b[0m rvalues \u001b[38;5;241m=\u001b[39m extract_array(other, extract_numpy\u001b[38;5;241m=\u001b[39m\u001b[38;5;28;01mTrue\u001b[39;00m, extract_range\u001b[38;5;241m=\u001b[39m\u001b[38;5;28;01mTrue\u001b[39;00m)\n",
      "\u001b[1;31mValueError\u001b[0m: Can only compare identically-labeled Series objects"
     ]
    }
   ],
   "source": [
    "platform_df = pd.DataFrame(columns=col_list)\n",
    "for platform in platform_dict:\n",
    "    platform_account_name = platform_dict[platform]\n",
    "    platform_loans = loans_df.loc[(loans_df['platform_account_name'] == platform_account_name) & (loans_df['loan_part_status'] != 'Repaid')]\n",
    "    platform_int_bearing = platform_loans['loan_part_amt'].sum() + cash_df.loc[platform_account_name]['ib_cash'].sum()\n",
    "    platform_non_bearing = cash_df.loc[platform_account_name]['nonib_cash']\n",
    "    platform_accrued_int = cash_df.loc[platform_account_name]['accrued_int']\n",
    "    platform_residual_value = platform_int_bearing + platform_non_bearing + platform_accrued_int\n",
    "    platform_extended_pct = platform_loans.loc[platform_loans['loan_part_maturity_extended_days'] > 90, 'loan_part_amt'].sum() / platform_loans['loan_part_amt'].sum()\n",
    "    platform_nonperform_pct = platform_loans.loc[platform_loans['loan_part_status'].isin(['Short Default', 'Long Default', 'Interest Default']), 'loan_part_amt'].sum() / platform_loans['loan_part_amt'].sum()\n",
    "    platform_avg_loan_amt = platform_loans['loan_part_amt'].sum() / platform_loans['loan_portion'].sum()\n",
    "    platform_transactions = transactions_df.loc[transactions_df['platform_account_name'] == platform_account_name]\n",
    "    platform_paid_in = platform_transactions.loc[platform_transactions['trx_type'] == 'Paid in', 'trx_amt'].abs().sum()\n",
    "    platform_distributions = platform_transactions.loc[platform_transactions['trx_type'] == 'Distribution', 'trx_amt'].abs().sum()\n",
    "    platform_dpi = np.where(platform_distributions != 0, platform_distributions/platform_paid_in, 0)\n",
    "    platform_rvpi = platform_residual_value / platform_paid_in\n",
    "    platform_invested_months = (pd.to_datetime('today').date() - pd.to_datetime(platform_transactions['trx_date'].min()).date()).days / 30.437\n",
    "    platform_cagr = (platform_dpi + platform_rvpi)**(1/(platform_invested_months/12))-1\n",
    "    platform_row = [platform_paid_in, platform_distributions, platform_int_bearing, platform_non_bearing, platform_accrued_int, platform_residual_value, platform_dpi, platform_rvpi, platform_dpi + platform_rvpi, platform_invested_months, platform_cagr, platform_loans['platform_weighted_net_aer'].sum(), platform_loans['platform_weighted_blended_ltv'].sum(), platform_loans['loan_portion'].sum(), platform_avg_loan_amt, platform_loans['platform_weighted_term_months'].sum(), platform_loans['loan_part_term_months'].max(), platform_loans['platform_weighted_ttm_months'].sum(), platform_loans['loan_part_ttm_days'].max()/33.437, platform_loans['platform_weighted_maturity_extended_days'].sum(), platform_extended_pct, platform_nonperform_pct, platform_loans.loc[platform_loans['loan_part_status'] == 'Long Default', 'loan_part_amt'].sum(),platform_loans.loc[platform_loans['loan_part_status'] == 'Short Default', 'loan_part_amt'].sum(),platform_loans.loc[platform_loans['loan_part_status'] == 'Interest Default', 'loan_part_amt'].sum()]\n",
    "    if save_history == True:\n",
    "        save_platform_csv(platform) # function to update platform_history.csv for all platform accounts\n",
    "    platform_df.loc[platform_account_name] = platform_row\n",
    "platform_df.sort_values(by='Residual value', ascending=False).style.format(format_dict)"
   ]
  },
  {
   "cell_type": "code",
   "execution_count": null,
   "id": "b8481f87-20be-4f6f-abe9-e4f1cedc7806",
   "metadata": {
    "tags": []
   },
   "outputs": [],
   "source": [
    "portfolio_df = pd.read_csv('data/portfolio_history.csv', index_col=0, parse_dates=[0])\n",
    "portfolio_paid_in = transactions_df.loc[transactions_df['trx_type'] == 'Paid in', 'trx_amt'].abs().sum()\n",
    "portfolio_distributions = transactions_df.loc[transactions_df['trx_type'] == 'Distribution', 'trx_amt'].abs().sum()\n",
    "portfolio_accrued_int = cash_df['accrued_int'].sum()\n",
    "portfolio_int_bearing = loans_df['loan_part_amt'].sum() + cash_df['ib_cash'].sum()\n",
    "portfolio_non_bearing = cash_df['nonib_cash'].sum()\n",
    "portfolio_accrued_int = cash_df['accrued_int'].sum()\n",
    "portfolio_residual_value = portfolio_int_bearing + portfolio_non_bearing + portfolio_accrued_int\n",
    "portfolio_dpi = portfolio_distributions / portfolio_paid_in\n",
    "portfolio_rvpi = portfolio_residual_value / portfolio_paid_in\n",
    "portfolio_invested_months = (pd.to_datetime('today').date() - pd.to_datetime(transactions_df['trx_date'].min()).date()).days / 30.437\n",
    "portfolio_cagr = (portfolio_dpi + portfolio_rvpi)**(1/(portfolio_invested_months/12))-1\n",
    "portfolio_row = [portfolio_paid_in, portfolio_distributions, portfolio_int_bearing, portfolio_non_bearing, portfolio_accrued_int, portfolio_residual_value, portfolio_dpi, portfolio_rvpi, portfolio_dpi + portfolio_rvpi, portfolio_invested_months, portfolio_cagr, loans_df['portfolio_weighted_net_aer'].sum(), loans_df['portfolio_weighted_blended_ltv'].sum(), loans_df['loan_portion'].sum(), loans_df['loan_part_amt'].sum() / loans_df['loan_portion'].sum(), loans_df['portfolio_weighted_term_months'].sum(),loans_df['loan_part_term_months'].max(),loans_df['portfolio_weighted_ttm_months'].sum(),loans_df['loan_part_ttm_days'].max()/33.437,loans_df['portfolio_weighted_maturity_extended_days'].sum(),loans_df.loc[loans_df['loan_part_maturity_extended_days'] > 90, 'loan_part_amt'].sum() / loans_df['loan_part_amt'].sum(),loans_df.loc[loans_df['loan_part_status'].isin(['Short Default', 'Long Default', 'Interest Default']), 'loan_part_amt'].sum() / loans_df['loan_part_amt'].sum(),loans_df.loc[loans_df['loan_part_status'] == 'Long Default', 'loan_part_amt'].sum(),loans_df.loc[loans_df['loan_part_status'] == 'Short Default', 'loan_part_amt'].sum(),loans_df.loc[loans_df['loan_part_status'] == 'Interest Default', 'loan_part_amt'].sum(), loans_df.loc[loans_df['platform_account_sector'] == 'Development']['loan_part_amt'].sum()/loans_df['loan_part_amt'].sum(),loans_df.loc[loans_df['platform_account_sector'] == 'Commercial']['loan_part_amt'].sum()/loans_df['loan_part_amt'].sum(),len(platform_dict),loans_df['loan_part_amt'].sum() / len(platform_dict),]\n",
    "portfolio_df.loc[today] = portfolio_row\n",
    "if save_history == True:\n",
    "    portfolio_df.to_csv('data/portfolio_history.csv', index=True)\n",
    "portfolio_df.sort_index(ascending=False).style.format_index(lambda s: s.strftime('%Y-%m')).format(format_dict)"
   ]
  },
  {
   "cell_type": "code",
   "execution_count": null,
   "id": "50739b23-e453-4781-9afb-d73a5c5fa096",
   "metadata": {},
   "outputs": [],
   "source": [
    "ax = platform_df.plot.barh(y='Avg loan amt', legend=False)\n",
    "ax.bar_label(ax.containers[0], fmt='£{0:,.2f}', label_type='edge', padding=5)"
   ]
  },
  {
   "cell_type": "code",
   "execution_count": null,
   "id": "d59ca0b2-9fb0-4fb6-a42a-584338604593",
   "metadata": {
    "tags": []
   },
   "outputs": [],
   "source": [
    "ax = platform_df['Residual value'].plot(kind='pie', colors=colours_list, autopct='%1.0f%%', legend=False)"
   ]
  },
  {
   "cell_type": "code",
   "execution_count": null,
   "id": "4c7f7f38-8ef6-4278-9934-759d0671943c",
   "metadata": {},
   "outputs": [],
   "source": [
    "ax = platform_df.plot(kind='scatter', x='Blended LTV', y='Net AER', s=150, c=colours_list)"
   ]
  }
 ],
 "metadata": {
  "kernelspec": {
   "display_name": "Python 3 (ipykernel)",
   "language": "python",
   "name": "python3"
  },
  "language_info": {
   "codemirror_mode": {
    "name": "ipython",
    "version": 3
   },
   "file_extension": ".py",
   "mimetype": "text/x-python",
   "name": "python",
   "nbconvert_exporter": "python",
   "pygments_lexer": "ipython3",
   "version": "3.10.9"
  }
 },
 "nbformat": 4,
 "nbformat_minor": 5
}
