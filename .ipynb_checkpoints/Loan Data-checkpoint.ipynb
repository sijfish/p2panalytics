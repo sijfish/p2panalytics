{
 "cells": [
  {
   "cell_type": "code",
   "execution_count": 1,
   "id": "36630cd9-c76b-4ad7-bf22-99475d188541",
   "metadata": {},
   "outputs": [],
   "source": [
    "import numpy as np\n",
    "import pandas as pd"
   ]
  },
  {
   "cell_type": "code",
   "execution_count": 2,
   "id": "7485a094-6eb2-4e28-aa4f-a37e8163b2e9",
   "metadata": {},
   "outputs": [],
   "source": [
    "cash_df = pd.DataFrame(columns=['platform_account_name','nonib_cash','ib_cash','accrued_int'])\n",
    "concat_columns = -24 # no of columns required in the clean concatinated data frame\n",
    "concat_trx_columns = -5 # no of columns required in the clean concatinated_trx data frame\n",
    "\n",
    "def platform_data_header(): # function for data enrichment common to all platforms e.g. platform name and sector\n",
    "    df['platform_account_name'] = platform_account_name\n",
    "    df['platform_account_sector'] = platform_account_sector\n",
    "\n",
    "def platform_data_footer(): # function for data enrichment common to all platforms e.g. platform weighted values\n",
    "    cash_df.loc[len(cash_df)] = { 'platform_account_name': platform_account_name, 'nonib_cash': nonib_cash, 'ib_cash': ib_cash, 'accrued_int': accrued_int } # set ib and nonib cash values\n",
    "    platform_weight = df['loan_part_amt']/( df['loan_part_amt'].sum() + ib_cash )\n",
    "    portfolio_weight_exc_negttm = df['loan_part_amt']/df.loc[df['loan_part_ttm_days'] >= 0, 'loan_part_amt'].sum() # weighting exc. negative time to maturity (principal default)\n",
    "    portfolio_weight_exc_negterm = df['loan_part_amt']/df.loc[df['loan_part_term_months'] >= 0, 'loan_part_amt'].sum() # weighting excl. negative term\n",
    "\n",
    "    if platform_account_name != 'Assetz Capital 90d Access':\n",
    "        df['loan_part_maturity_extended_days'] = (df['loan_part_matures'] - df['loan_part_original_maturity']).dt.days\n",
    "        df['platform_weighted_maturity_extended_days'] = df['loan_part_maturity_extended_days']*platform_weight\n",
    "    df['platform_weighted_net_aer'] = df['loan_part_net_aer']*platform_weight\n",
    "    df['platform_weighted_blended_ltv'] = df['loan_part_blended_ltv']*platform_weight\n",
    "    df.loc[df['loan_part_term_months'] >= 0, 'platform_weighted_term_months'] = df['loan_part_term_months'] * portfolio_weight_exc_negterm # weighted term if not negative\n",
    "    df.loc[df['loan_part_ttm_days'] >= 0, 'platform_weighted_ttm_months'] = df['loan_part_ttm_days'] / 30.44 * portfolio_weight_exc_negttm # weighted ttm if not negative\n",
    "\n",
    "def platform_data_print():\n",
    "    print(\"Int bearing: {}\".format(df['loan_part_amt'].sum()+ib_cash))\n",
    "    print(\"Non-bearing: {}\".format(nonib_cash))\n",
    "    print(\"Accrued interest: {}\".format(accrued_int))\n",
    "    print(\"Residual value: {}\".format(df['loan_part_amt'].sum()+ib_cash+nonib_cash+accrued_int))\n",
    "    print(\"{} trx {} to {}\".format(trx_df.shape[0],trx_df['trx_date'].min().date(),trx_df['trx_date'].max().date()))\n",
    "    print(\"Sum of trx: {}\".format(trx_df['trx_amt'].sum()))    "
   ]
  },
  {
   "cell_type": "markdown",
   "id": "a47872a8-bf83-4c02-8068-e140e4ee8cb4",
   "metadata": {},
   "source": [
    "#### Loanpad"
   ]
  },
  {
   "cell_type": "code",
   "execution_count": 3,
   "id": "98a870da-db56-435b-811e-21441f458741",
   "metadata": {
    "tags": []
   },
   "outputs": [
    {
     "name": "stdout",
     "output_type": "stream",
     "text": [
      "Int bearing: 5720.0\n",
      "Non-bearing: 3.59\n",
      "Accrued interest: 0\n",
      "Residual value: 5723.59\n",
      "911 trx 2022-06-22 to 2024-12-17\n",
      "Sum of trx: 5723.595243999998\n"
     ]
    }
   ],
   "source": [
    "########################## LOAN PARTS ##########################\n",
    "platform_account_name = 'Loanpad 60d Access'\n",
    "platform_account_sector = 'Development'\n",
    "gross_apr = 0.065 # need to set APR manually for access account\n",
    "nonib_cash = 3.59 # need to set cash account that loanpad pays interest into. this is non-interest bearing until re-invested to access account\n",
    "# platform_accout_total_loan = \n",
    "################################################################\n",
    "accrued_int = 0 # loanpad pays out daily so no accrued\n",
    "df = pd.read_csv('data/loanpad.csv')\n",
    "platform_data_header() # function for data enrichment common to all platforms e.g. platform name and sector\n",
    "df['loan_part_name'] = df['Loan ID'].astype('str')\n",
    "df['loan_part_id'] = df['Loan ID']\n",
    "df['loan_part_status'] = df['Loan status']\n",
    "df['loan_part_amt'] = pd.to_numeric(df['Your investment'].str.replace('£', ''))\n",
    "df['loan_part_term_months'] = 2 # 60 d access account\n",
    "df['loan_part_starts'] = np.nan # not provided\n",
    "df['loan_part_matures'] = pd.to_datetime(df['Maturity'], errors='coerce')\n",
    "df['loan_part_original_maturity'] = pd.to_datetime(df['Original maturity date'], dayfirst=True, errors='coerce')\n",
    "df['loan_part_ttm_days'] = 60 # 60 d access account\n",
    "df['loan_part_blended_ltv'] = pd.to_numeric(df['Loan to value'].str.replace('%', '').str.replace('-', ''))/100\n",
    "df['loan_part_gross_apr'] = gross_apr\n",
    "df['loan_part_net_apr'] = df['loan_part_gross_apr'] # loanpad does not charge fees on apr / aer received\n",
    "loanpad_platf_amt = df['loan_part_amt'].sum()\n",
    "gbp_apr_per_day = df['loan_part_net_apr']/365*loanpad_platf_amt # loanpad pay APR daily\n",
    "no_days_to_gbp_10 = pd.to_numeric(10 / gbp_apr_per_day) # loanpad automatically reinvest in increments of GBP 10\n",
    "df['loan_part_int_per'] = (365 / no_days_to_gbp_10).astype('int')\n",
    "df['loan_part_gross_aer'] = (1+df['loan_part_net_apr']/df['loan_part_int_per'])**df['loan_part_int_per']-1\n",
    "df['loan_part_net_aer'] = df['loan_part_gross_aer'] # loanpad does not charge fees on apr / aer received\n",
    "df['loan_parts_in_loan'] = df['Loan Parts in Loan']\n",
    "ib_cash_row = df.loc[df['loan_part_name'] == 'Cash awaiting investment'] # find ib cash value in df\n",
    "ib_cash = ib_cash_row.loan_part_amt.values[0]\n",
    "df.drop(ib_cash_row.index.values[0], inplace=True) # drop ib cash value in df\n",
    "platform_data_footer() # function for data enrichment common to all platforms e.g. platform weighted values\n",
    "loanpad_df = df.iloc[:,concat_columns:]\n",
    "######################### TRANSACTIONS #########################\n",
    "trx_df = pd.read_csv('data/loanpad_trx.csv')\n",
    "trx_df['platform_account_name'] = platform_account_name\n",
    "trx_df['trx_date'] = pd.to_datetime(trx_df['DATE'], dayfirst=True)\n",
    "trx_df['trx_desc'] = trx_df['DESCRIPTION']\n",
    "trx_df['trx_type'] = trx_df['DESCRIPTION']\n",
    "trx_df['CREDIT'] = pd.to_numeric(trx_df['CREDIT'].str.replace(',','').str.replace('£','')).fillna(0)\n",
    "trx_df['DEBIT'] = pd.to_numeric(trx_df['DEBIT'].str.replace(',','').str.replace('£','')).fillna(0)\n",
    "trx_df['trx_amt'] = trx_df['CREDIT'] - trx_df['DEBIT']\n",
    "trx_df = trx_df.loc[trx_df['trx_type'] != 'Transfer to Premium'] # filter out inter-account transfers\n",
    "loanpad_trx_df = trx_df.iloc[:,concat_trx_columns:]\n",
    "platform_data_print() # print data"
   ]
  },
  {
   "cell_type": "markdown",
   "id": "d842bc2c-baa5-489c-bfd6-dbf91aaf180e",
   "metadata": {
    "tags": []
   },
   "source": [
    "#### PropLend"
   ]
  },
  {
   "cell_type": "code",
   "execution_count": 4,
   "id": "ad0bc533-8450-41e8-ad75-193d414241f8",
   "metadata": {},
   "outputs": [
    {
     "name": "stdout",
     "output_type": "stream",
     "text": [
      "Int bearing: 4000.0\n",
      "Non-bearing: 13.98\n",
      "Accrued interest: 9.95\n",
      "Residual value: 4023.93\n",
      "209 trx 2022-06-20 to 2024-12-10\n",
      "Sum of trx: 1013.5661000028007\n"
     ]
    }
   ],
   "source": [
    "########################## LOAN PARTS ##########################\n",
    "platform_account_name = 'Proplend'\n",
    "platform_account_sector = 'Commercial'\n",
    "nonib_cash = 13.98 # need to set cash account that proplend pays interest into. this is non-interest bearing until re-invested to access account\n",
    "accrued_int = 9.95 # need to set accrued interest manually, although it should be negligible as it's paid monthly.\n",
    "# platform_accout_total_loan = \n",
    "################################################################\n",
    "ib_cash = 0.0 # PropLend has no interest bearing cash account\n",
    "df = pd.read_csv('data/proplend.csv')\n",
    "platform_data_header() # function for data enrichment common to all platforms e.g. platform name and sector\n",
    "df['loan_part_name'] = df['Loan Name']\n",
    "df['loan_part_id'] = df['Loan Name'].astype('str')\n",
    "df['loan_part_status'] = df['Status']\n",
    "df['loan_part_amt'] = pd.to_numeric(df['Amount'].str.replace(',', ''))\n",
    "df['loan_part_term_months'] = pd.to_numeric(df['Duration'])\n",
    "df['loan_part_starts'] = np.nan\n",
    "df['loan_part_matures'] = pd.to_datetime(df['End Date'], dayfirst=True)\n",
    "df['loan_part_original_maturity'] = df['loan_part_matures'] # PropLend does not extend maturity dates\n",
    "df['loan_part_ttm_days'] = (df['loan_part_matures'] - pd.to_datetime('today')).dt.days\n",
    "df['loan_part_blended_ltv'] = pd.to_numeric(df['LTV'].str.replace('%', ''))/100\n",
    "df['loan_part_gross_apr'] = pd.to_numeric(df['Interest Rate'])/100\n",
    "df['loan_part_net_apr'] = df['loan_part_gross_apr']*.9 # proplend charge 10% fee on gross apr received from borrower\n",
    "df['loan_part_int_per'] = 12 # proplend roll up interest and pay apr monthly\n",
    "df['loan_part_gross_aer'] = (1+df['loan_part_net_apr']/df['loan_part_int_per'])**df['loan_part_int_per']-1\n",
    "df['loan_part_net_aer'] = df['loan_part_gross_aer'] # proplend charge a fee on APR\n",
    "df['loan_parts_in_loan'] = 1 # proplend do not tranche loans so its always 1 loan part to 1 loan\n",
    "platform_data_footer() # function for data enrichment common to all platforms e.g. platform weighted values\n",
    "proplend_df = df.iloc[:,concat_columns:]\n",
    "######################### TRANSACTIONS #########################\n",
    "trx_df = pd.read_csv('data/proplend_trx.csv')\n",
    "trx_df['platform_account_name'] = platform_account_name\n",
    "trx_df['trx_date'] = pd.to_datetime(trx_df['Date'])\n",
    "trx_df['trx_desc'] = trx_df['Description']\n",
    "trx_df['trx_type'] = trx_df['Description']\n",
    "trx_df['trx_amt'] = trx_df['Amount']\n",
    "proplend_trx_df = trx_df.iloc[:,concat_trx_columns:]\n",
    "platform_data_print() # print data"
   ]
  },
  {
   "cell_type": "markdown",
   "id": "de524d9c-698f-48f7-97c0-45549de7b46f",
   "metadata": {
    "tags": []
   },
   "source": [
    "#### CrowdProperty"
   ]
  },
  {
   "cell_type": "code",
   "execution_count": 5,
   "id": "5ae3fa0a-2b4b-41da-b3c7-5fad369aab1c",
   "metadata": {
    "tags": []
   },
   "outputs": [
    {
     "name": "stdout",
     "output_type": "stream",
     "text": [
      "Int bearing: 1440.27\n",
      "Non-bearing: 0\n",
      "Accrued interest: 0\n",
      "Residual value: 1440.27\n",
      "386 trx 2022-08-21 to 2024-12-18\n",
      "Sum of trx: 93.0899999999996\n"
     ]
    }
   ],
   "source": [
    "########################## LOAN PARTS ##########################\n",
    "platform_account_name = 'CrowdProperty AutoInvest'\n",
    "platform_account_sector = 'Development'\n",
    "nonib_cash = 0 # need to set cash account that CrowProperty pays interest into. this is non-interest bearing until re-invested to auto-invest account\n",
    "# platform_accout_total_loan = \n",
    "################################################################\n",
    "ib_cash = 0.0 # crowdproperty has no interest bearing cash account\n",
    "accrued_int = 0 # CrowdProperty doesn't publish accrued interest\n",
    "df = pd.read_csv('data/crowdproperty.csv')\n",
    "platform_data_header() # function for data enrichment common to all platforms e.g. platform name and sector\n",
    "df['loan_part_name'] = df['Project']\n",
    "df['loan_part_id'] = df['Bank Reference'].astype('str')\n",
    "df['loan_part_status'] = df['Status']\n",
    "df['loan_part_amt'] = pd.to_numeric(df['Outstanding Capital']).astype('float')\n",
    "df['loan_part_matures'] = pd.to_datetime(df['Loan End'], format='%d/%m/%Y')\n",
    "df['loan_part_original_maturity'] = pd.to_datetime(df['Original maturity date'], dayfirst=True, errors='coerce')\n",
    "df['loan_part_starts'] = pd.to_datetime(df['Loan Start'], format='%d/%m/%Y')\n",
    "df['loan_part_term_months'] = (df['loan_part_matures'] - df['loan_part_starts']).dt.days / 30.437\n",
    "df['loan_part_ttm_days'] = (df['loan_part_matures'] - pd.to_datetime('today')).dt.days\n",
    "df['loan_part_blended_ltv'] = pd.to_numeric(df['Blended LTV'].str.replace('%', ''))/100\n",
    "df['loan_part_gross_apr'] = pd.to_numeric(df['Gross APR'].str.replace('%', ''))/100\n",
    "df['loan_part_net_apr'] = pd.to_numeric(df['Net APR'].str.replace('%', ''))/100\n",
    "df['loan_part_int_per'] = 1 # crowdproperty roll up interest and pay apr annually\n",
    "df['loan_part_gross_aer'] = (1+df['loan_part_net_apr']/df['loan_part_int_per'])**df['loan_part_int_per']-1\n",
    "df['loan_part_net_aer'] = df['loan_part_gross_aer'] # crowdproperty charge a spread on APR\n",
    "df['loan_parts_in_loan'] = df['Loan Parts in Loan']\n",
    "loan_parts_repaid = df.loc[df['Status'] == 'Paid Back'].index.values\n",
    "loan_parts_repaid = df.loc[df['Status'] == 'Paid Back in Full'].index.values\n",
    "df.drop(loan_parts_repaid, inplace=True) # drop repaid loans from dataframe\n",
    "platform_data_footer() # function for data enrichment common to all platforms e.g. platform weighted values\n",
    "crowdproperty_df = df.iloc[:,concat_columns:]\n",
    "######################### TRANSACTIONS #########################\n",
    "trx_df = pd.read_csv('data/crowdproperty_trx.csv')\n",
    "trx_df['platform_account_name'] = platform_account_name\n",
    "trx_df['trx_date'] = pd.to_datetime(trx_df['Date'])\n",
    "trx_df['trx_desc'] = trx_df['To']\n",
    "trx_df['trx_type'] = trx_df['Type']\n",
    "trx_df['trx_amt'] = pd.to_numeric(trx_df['Transaction']).fillna(0)\n",
    "trx_df.loc[trx_df['trx_desc'] == 'Deposit (Ref: AUTOINVEST)','trx_type'] = 'Paid in' # need to define trx_type based on trx_desc or it's 'Not Set'\n",
    "trx_df.loc[trx_df['To'].str.contains('Withdrawal\\(Ref:', case=False, na=False), 'trx_type'] = 'Distribution' # need to define trx_type based on To or it's 'Not Set'. Needs to be contains because the reference can differ.\n",
    "#trx_df.loc[trx_df['To'].str.contains('Withdrawal'),'trx_type'] = 'Distribution' # need to define trx_type based on To or it's 'Not Set'\n",
    "#df.loc[df['trx_desc'] == \"Deposit (Ref: AUTOINVEST)\",'trx_amt'] *= -1 # deposits need to be turned into a debit\n",
    "#df.loc[df['trx_desc'] == \"Withdrawal(Ref: CrowdProperty)\",'trx_amt'] *= -1 # withdrawals need to be turned into a credit\n",
    "crowdproperty_trx_df = trx_df.iloc[:,concat_trx_columns:]\n",
    "platform_data_print() # print data"
   ]
  },
  {
   "cell_type": "markdown",
   "id": "bea09b2b-7acf-4358-8a05-86ef00b7b835",
   "metadata": {},
   "source": [
    "#### Invest & Fund"
   ]
  },
  {
   "cell_type": "code",
   "execution_count": 6,
   "id": "3b8396a0-18d5-47c3-a691-b74eb47c7e65",
   "metadata": {},
   "outputs": [
    {
     "name": "stdout",
     "output_type": "stream",
     "text": [
      "Int bearing: 3106.1\n",
      "Non-bearing: 524.35\n",
      "Accrued interest: 108.2\n",
      "Residual value: 3738.6499999999996\n",
      "349 trx 2022-08-22 to 2024-09-20\n",
      "Sum of trx: 616.3900000000008\n"
     ]
    }
   ],
   "source": [
    "########################## LOAN PARTS ##########################\n",
    "platform_account_name = 'Invest & Fund'\n",
    "platform_account_sector = 'Development'\n",
    "nonib_cash = 524.35 # need to set cash account that Invest & Fund pays interest into. this is non-interest bearing until re-invested to auto-invest account\n",
    "accrued_int = 108.20 # need to set accrued interest balance from Invest & Fund dashbaord\n",
    "# platform_accout_total_loan = \n",
    "################################################################\n",
    "ib_cash = 0.0 # i&f has no interest bearing cash account\n",
    "df = pd.read_csv('data/invest_fund.csv')\n",
    "platform_data_header() # function for data enrichment common to all platforms e.g. platform name and sector\n",
    "df['loan_part_name'] = df['Company Name']\n",
    "df['loan_part_id'] = df['Loan Ref'].astype('str')\n",
    "df['loan_part_status'] = 'Active'\n",
    "df['loan_part_amt'] = pd.to_numeric(df['Outstanding Balance']).astype('float')\n",
    "df['loan_part_term_months'] = pd.to_numeric(df['Term Remaining'].str.split('/ ').str[1].str.replace(' days','')) / 30.437\n",
    "df['loan_part_starts'] = np.nan\n",
    "df['loan_part_matures'] = pd.to_datetime(df['Maturity Date'], format='%d-%b-%y')\n",
    "df['loan_part_original_maturity'] = pd.to_datetime(df['Original maturity date'], dayfirst=True, errors='coerce')\n",
    "df['loan_part_ttm_days'] = (df['loan_part_matures'] - pd.to_datetime('today')).dt.days\n",
    "df['loan_part_blended_ltv'] = pd.to_numeric(df['Blended LTV'])/100\n",
    "df['loan_part_gross_apr'] = np.nan # i&f publish apr as well as aer but don't provide apr in their file\n",
    "df['loan_part_net_apr'] =  df['loan_part_gross_apr']\n",
    "df['loan_part_int_per'] = 12 # i&f pay aer with monthly compounding, but the rate in their file is already aer\n",
    "df['loan_part_gross_aer'] = pd.to_numeric(df['Interest Rate'].str.replace('%', ''))/100 # i&f only provide aer in their file\n",
    "df['loan_part_net_aer'] = df['loan_part_gross_aer']-0.0075 # i&f charge 0.75% spread on AER\n",
    "df['loan_parts_in_loan'] = df['Loan Parts in Loan']\n",
    "platform_data_footer() # function for data enrichment common to all platforms e.g. platform weighted values\n",
    "invest_fund_df = df.iloc[:,concat_columns:]\n",
    "######################### TRANSACTIONS #########################\n",
    "trx_df = pd.read_csv('data/invest_fund_trx.csv')\n",
    "trx_df['platform_account_name'] = platform_account_name\n",
    "trx_df['trx_date'] = pd.to_datetime(trx_df['Date'], dayfirst=True)\n",
    "trx_df['trx_desc'] = trx_df['Loan']\n",
    "trx_df['trx_type'] = trx_df['Transaction Type']\n",
    "trx_df['trx_amt'] = pd.to_numeric(trx_df['Amount'].str.replace(',','').str.replace('£','')).fillna(0)\n",
    "invest_fund_trx_df = trx_df.iloc[:,concat_trx_columns:]\n",
    "platform_data_print() # print data"
   ]
  },
  {
   "cell_type": "markdown",
   "id": "23348167-88fd-4aa4-b7a4-1d837b144440",
   "metadata": {},
   "source": [
    "#### Assetz Capital"
   ]
  },
  {
   "cell_type": "code",
   "execution_count": 7,
   "id": "6d0d919a-fbe9-4ac2-b647-6995bec0a879",
   "metadata": {},
   "outputs": [
    {
     "name": "stdout",
     "output_type": "stream",
     "text": [
      "Int bearing: 528.8313228405519\n",
      "Non-bearing: 0\n",
      "Accrued interest: 0\n",
      "Residual value: 528.8313228405519\n",
      "100 trx 2023-03-04 to 2024-12-02\n",
      "Sum of trx: 0.0\n"
     ]
    }
   ],
   "source": [
    "########################## LOAN PARTS ##########################\n",
    "platform_account_name = 'Assetz Capital 90d Access'\n",
    "platform_account_sector = 'Commercial'\n",
    "gross_apr = 0.04 # need to set APR manually for access account. This is the cap, actual could be lower month-to-month.\n",
    "nonib_cash = 0 # need to set cash account that Assetz Capital pays interest and replayments  through the winddown. this is non-interest bearing and needs to be withdrawn.\n",
    "accrued_int = 0 # need to set accrued interest balance from Assetz Capital dashbaord\n",
    "# platform_accout_total_loan = \n",
    "################################################################\n",
    "ib_cash = 0 # assetzcapital has no interest bearing cash account\n",
    "df = pd.read_csv('data/assetz_capital.csv')\n",
    "platform_data_header() # function for data enrichment common to all platforms e.g. platform name and sector\n",
    "df['loan_part_name'] = df['name']\n",
    "df['loan_part_id'] = df['id'].astype('str')\n",
    "df['loan_part_status'] = df['risk_category']\n",
    "df['loan_part_amt'] = pd.to_numeric(df['your_total_holding']).astype('float')\n",
    "df['loan_part_term_months'] = df['loan_term'].astype(int)\n",
    "df['loan_part_starts'] = np.nan # assetzcapital export does not provide loan start / end dates\n",
    "df['loan_part_matures'] = np.nan # assetzcapital export does not provide loan start / end dates\n",
    "df['loan_part_original_maturity'] = np.nan # assetzcapital export does not provide loan start / end dates\n",
    "df['loan_part_ttm_days'] = round(df['term_remaining']*33.44).astype(int)\n",
    "df['loan_part_blended_ltv'] = pd.to_numeric(df['ltv'])/100\n",
    "df['loan_part_gross_apr'] = pd.to_numeric(gross_apr)\n",
    "df['loan_part_net_apr'] =  df['loan_part_gross_apr'] # assetzcapital cap APR\n",
    "df['loan_part_int_per'] = 12 # assetzcapital pay APR monthly\n",
    "df['loan_part_gross_aer'] = (1+df['loan_part_net_apr']/df['loan_part_int_per'])**df['loan_part_int_per']-1\n",
    "df['loan_part_net_aer'] = df['loan_part_gross_aer'] # assetzcapital pay a fixed/capped apr, no spread on the published apr rate\n",
    "df['loan_parts_in_loan'] = 1 # assetzcapital generally do not tranche their loans, so its mostly 1 loan part to 1 loan\n",
    "platform_data_footer() # function for data enrichment common to all platforms e.g. platform weighted values\n",
    "assetz_capital_df = df.iloc[:,concat_columns:]\n",
    "######################### TRANSACTIONS #########################\n",
    "trx_df = pd.read_csv('data/assetz_capital_trx.csv')\n",
    "trx_df['platform_account_name'] = platform_account_name\n",
    "trx_df['trx_date'] = pd.to_datetime(trx_df['createdAt'])\n",
    "trx_df['trx_desc'] = trx_df['narrative']\n",
    "trx_df['trx_type'] = trx_df['narrative']\n",
    "trx_df['trx_amt'] = pd.to_numeric(trx_df['amount']).fillna(0)\n",
    "assetz_capital_trx_df = trx_df.iloc[:,concat_trx_columns:]\n",
    "platform_data_print() # print data"
   ]
  },
  {
   "cell_type": "markdown",
   "id": "456fcaf3-c99c-4004-9555-bc5b954522dc",
   "metadata": {},
   "source": [
    "#### Kuflink"
   ]
  },
  {
   "cell_type": "code",
   "execution_count": 8,
   "id": "f755a52e-ade7-42b2-963e-3bea1f09c15f",
   "metadata": {
    "tags": []
   },
   "outputs": [
    {
     "name": "stdout",
     "output_type": "stream",
     "text": [
      "Int bearing: 2049.6400000000003\n",
      "Non-bearing: 0.0\n",
      "Accrued interest: 145.35\n",
      "Residual value: 2194.9900000000002\n",
      "7 trx 2022-07-24 to 2024-08-24\n",
      "Sum of trx: 0.0\n"
     ]
    }
   ],
   "source": [
    "########################## LOAN PARTS ##########################\n",
    "platform_account_name = 'Kuflink 24m Term 28133'\n",
    "platform_account_sector = 'Development'\n",
    "nonib_cash = 0.0 # need to set cash account, but will typically be 0 as term account rolls up interest payments until expiry\n",
    "ib_cash = 0.0 # if there is any \"Amount Unallocated\" in the mandate, it's still interest bearing\n",
    "accrued_int = 118.39 + 26.96 # need to set accrued interest balance from Kuflink dashbaord\n",
    "ltv = 0.6069 # need to set ltv of the pooled account https://invest.kuflink.co.uk/product/pool\n",
    "gross_apr = (0.08 + 0.085)/2 # need to set APR manually for term account. This is the cap, actual could be lower month-to-month.\n",
    "term_start = pd.to_datetime('01/08/23', format='%d/%m/%y')\n",
    "term_finish = pd.to_datetime('01/08/25', format='%d/%m/%y')\n",
    "term_months = 24\n",
    "# need to fix this to handle multiple terms\n",
    "# platform_accout_total_loan = \n",
    "################################################################\n",
    "df = pd.read_csv('data/kuflink.csv')\n",
    "platform_data_header() # function for data enrichment common to all platforms e.g. platform name and sector\n",
    "df['loan_part_name'] = df['Loan Name']\n",
    "df['loan_part_id'] = df['Loan Id'].astype('str')\n",
    "df['loan_part_status'] = df['Loan Status']\n",
    "df['loan_part_amt'] = pd.to_numeric(df['Monetary Amount'].str.replace('£', '')).astype('float')\n",
    "df['loan_part_matures'] = pd.to_datetime(df['Loan End Date'], dayfirst=True)\n",
    "df['loan_part_original_maturity'] = pd.to_datetime(df['Original maturity date'], dayfirst=True, errors='coerce')\n",
    "df['loan_part_starts'] = pd.to_datetime(df['Loan Advance Date'], dayfirst=True)\n",
    "df['loan_part_term_months'] = term_months\n",
    "df['loan_part_ttm_days'] = (term_finish - pd.to_datetime('today')).days\n",
    "df['loan_part_blended_ltv'] = ltv\n",
    "df['loan_part_gross_apr'] = gross_apr\n",
    "df['loan_part_net_apr'] =  df['loan_part_gross_apr'] # kuflink term caps APR\n",
    "df['loan_part_int_per'] = 1 # kuflink term pays interest annually\n",
    "df['loan_part_gross_aer'] = (1+df['loan_part_net_apr']/df['loan_part_int_per'])**df['loan_part_int_per']-1\n",
    "df['loan_part_net_aer'] = df['loan_part_gross_aer'] # kuflink pay a fixed/capped apr, no spread on the published apr rate\n",
    "df['loan_parts_in_loan'] = df['Loan Parts in Loan']\n",
    "platform_data_footer() # function for data enrichment common to all platforms e.g. platform weighted values\n",
    "kuflink_df = df.iloc[:,concat_columns:]\n",
    "######################### TRANSACTIONS #########################\n",
    "trx_df = pd.read_csv('data/kuflink_trx.csv')\n",
    "trx_df['platform_account_name'] = platform_account_name\n",
    "trx_df['trx_date'] = pd.to_datetime(trx_df['Date'], dayfirst=True)\n",
    "trx_df['trx_desc'] = trx_df['Reference']\n",
    "trx_df['trx_type'] = trx_df['Description']\n",
    "trx_df['trx_amt'] = pd.to_numeric(trx_df['Amount'].str.replace('£','').str.replace(',','')).fillna(0)\n",
    "kuflink_trx_df = trx_df.iloc[:,concat_trx_columns:]\n",
    "platform_data_print() # print data"
   ]
  },
  {
   "cell_type": "markdown",
   "id": "f69f3b46-f8b2-48d1-aca3-41527fa54ff2",
   "metadata": {},
   "source": [
    "#### Concat & enrich"
   ]
  },
  {
   "cell_type": "code",
   "execution_count": 9,
   "id": "ff93033c-e39b-4f4e-a939-6225c0e94c0e",
   "metadata": {},
   "outputs": [],
   "source": [
    "########################## LOAN PARTS ##########################\n",
    "loans_df = pd.concat([loanpad_df, proplend_df, crowdproperty_df, invest_fund_df, assetz_capital_df, kuflink_df], axis=0, ignore_index=True)\n",
    "loans_df['loan_portion'] = 1/loans_df['loan_parts_in_loan']\n",
    "portfolio_ib_cash = cash_df['ib_cash'].sum()\n",
    "portfolio_nonib_cash = cash_df['nonib_cash'].sum()\n",
    "portfolio_accrued_int = cash_df['accrued_int'].sum()\n",
    "portfolio_weight = loans_df['loan_part_amt']/(loans_df['loan_part_amt'].sum() + portfolio_ib_cash) # weighting inc. interest bearing cash\n",
    "portfolio_weight_inc_nonib_cash = loans_df['loan_part_amt']/(loans_df['loan_part_amt'].sum() + portfolio_ib_cash + portfolio_nonib_cash) # wighting inc. interest and non-interest bearing cash\n",
    "portfolio_weight_exc_negttm = loans_df['loan_part_amt']/loans_df.loc[loans_df['loan_part_ttm_days'] >= 0, 'loan_part_amt'].sum() # weighting exc. negative time to maturity (principal default)\n",
    "portfolio_weight_exc_negterm = loans_df['loan_part_amt']/loans_df.loc[loans_df['loan_part_term_months'] >= 0, 'loan_part_amt'].sum() # weighting exc. negative terms\n",
    "\n",
    "loans_df['portfolio_weighted_maturity_extended_days'] = loans_df['loan_part_maturity_extended_days']*portfolio_weight\n",
    "loans_df.loc[loans_df['loan_part_ttm_days'] >= 0, 'portfolio_weighted_ttm_months'] = loans_df['loan_part_ttm_days'] / 30.44 * portfolio_weight_exc_negttm # weighted ttm if not negative\n",
    "loans_df.loc[loans_df['loan_part_term_months'] >= 0, 'portfolio_weighted_term_months'] = loans_df['loan_part_term_months'] * portfolio_weight_exc_negterm # weighted term if not negative\n",
    "loans_df['portfolio_weighted_net_aer'] = loans_df['loan_part_net_aer']*portfolio_weight\n",
    "loans_df['portfolio_weighted_net_aer_inc_nonib_cash'] = loans_df['loan_part_net_aer']*portfolio_weight_inc_nonib_cash\n",
    "loans_df['portfolio_weighted_blended_ltv'] = loans_df['loan_part_blended_ltv']*portfolio_weight\n",
    "loans_df['portfolio_weighted_blended_ltv_inc_nonib_cash'] = loans_df['loan_part_blended_ltv']*portfolio_weight_inc_nonib_cash\n",
    "\n",
    "status_dict = {'Extended (No ICF)': 'Active',\n",
    "               'Active - Good Standing': 'Active', #Proplend\n",
    "               'Performing': 'Active', \n",
    "               'Pending Status Update': 'Active', \n",
    "               'Live': 'Active', \n",
    "               'Partially Repaid': 'Active', \n",
    "               'High': 'Active', \n",
    "               'Medium': 'Active', \n",
    "               'Medium High': 'Active', \n",
    "               'Medium Low': 'Active', \n",
    "               'Low': 'Active', \n",
    "               'Default': 'Interest Default', \n",
    "               'INTEREST IN ARREARS': 'Interest Default', # Proplend\n",
    "               'Default (No Suspension - No ICF)': 'Interest Default',\n",
    "               'Loan not yet started': 'Pledged' }\n",
    "for status in status_dict: # clean loanpart statuses\n",
    "    loans_df['loan_part_status'].mask(loans_df['loan_part_status'] == status, status_dict[status], inplace=True)\n",
    "    \n",
    "loans_df['loan_part_status'].mask(loans_df['loan_part_ttm_days'] <= 0, 'Short Default', inplace=True) # short default status if ttm is minus\n",
    "loans_df['loan_part_status'].mask(loans_df['loan_part_ttm_days'] <= -90, 'Long Default', inplace=True) # lonng default status if ttm is less than -90 days\n",
    "\n",
    "loans_df.to_csv('data/concatenated.csv', index=False)\n",
    "cash_df.to_csv('data/cash.csv', index=False)\n",
    "#loans_df.info()"
   ]
  },
  {
   "cell_type": "code",
   "execution_count": 18,
   "id": "7151c75e-3ba9-40f4-816f-ea2f538f3180",
   "metadata": {},
   "outputs": [],
   "source": [
    "########################## TRANSACTIONS ##########################\n",
    "trx_df = pd.concat([loanpad_trx_df, proplend_trx_df, crowdproperty_trx_df, invest_fund_trx_df, assetz_capital_trx_df, kuflink_trx_df], axis=0, ignore_index=True)\n",
    "\n",
    "trx_type_dict = { 'Bank Deposit' : 'Paid in',                    # Loanpad\n",
    "                  'Premium Interest' : 'Interest',               # Loanpad\n",
    "                  'Deposit' : 'Paid in',                         # Invest & Fund\n",
    "                  'Loan part purchase' : 'Capital',              # Invest & Fund secondary market purchase\n",
    "                  'Purchased interest' : 'Capital',              # Invest & Fund secondary market purchase\n",
    "                  'Auction completion' : 'Capital',              # Invest & Fund primary market purchase\n",
    "                  'Loan Repayment' : 'Capital',                  # Invest & Fund\n",
    "                  'Loan Repayment Interest' : 'Interest',        # Invest & Fund\n",
    "                  'Repayment of Purchased Interest' : 'Interest',# Invest & Fund\n",
    "                  'I and F fee' : 'Fee',                         # Invest & Fund\n",
    "                  'Withdrawal from Quick Access Account (5)' : 'Administrative' # Asset Capital to avoid double counting distributions\n",
    "                }\n",
    "for trx_type in trx_type_dict: # transform transaction types that equal x\n",
    "    trx_df['trx_type'].mask(trx_df['trx_type'] == trx_type, trx_type_dict[trx_type], inplace=True)\n",
    "\n",
    "trx_type_dict = { 'Gross Loan Interest' : 'Interest',            # Proplend interest on loans\n",
    "                  'Bank Interest' : 'Interest',                  # Proplend interest on cash account\n",
    "                  'Barclays Interest' : 'Interest',              # Proplend inerest on cash account\n",
    "                  'Primary Loan Investments' : 'Capital',        # Proplend\n",
    "                  'Primary Loan Invesments' : 'Capital',         # PropLend\n",
    "                  'Principal Paid Off' : 'Capital',              # Proplend\n",
    "                  'Fee For' : 'Fee',                             # Proplend fee interest repayment\n",
    "                  'DEPOSIT' : 'Paid in',                         # Proplend\n",
    "                  'Withdrawal' : 'Distribution',                 # Proplend, CrowdProperty, Assetz Capital\n",
    "                  'Regular Monthly Interest' : 'Distribution',   # Proplend\n",
    "                  'Transfer of pledged funds' : 'Capital',       # CrowdProperty\n",
    "                  'Capital Payment' : 'Capital',                 # CrowdProperty\n",
    "                  'Interest Payment' : 'Interest',               # CrowdProperty\n",
    "                  'Interest payment' : 'Interest',               # Assetz Capital\n",
    "                  'interest payment' : 'Interest',               # Assetz Capital\n",
    "                  'Investment into qaa' : 'Paid in',             # Assetz Capital\n",
    "                  'Inter account transfer to cash' : 'Distribution', # Asset Capital incl. capital & interest as the cash account balance is drawn down regularly\n",
    "                  'Investment Line' : 'Capital',                 # Kuflink\n",
    "                  'Capital Repaid' : 'Capital',                  # Kuflink\n",
    "                  'Interest Paid' : 'Interest',                  # Kuflink\n",
    "                  'Wallet Topup' : 'Paid in'                     # Kuflink\n",
    "                }\n",
    "\n",
    "for trx_type in trx_type_dict: # transofrm transaction types that contain y\n",
    "    trx_df.loc[trx_df['trx_type'].str.contains(trx_type, case=False, na=False), 'trx_type'] = trx_type_dict[trx_type]\n",
    "\n",
    "trx_df.to_csv('data/transactions.csv', index=False)\n",
    "#trx_df.info()"
   ]
  }
 ],
 "metadata": {
  "kernelspec": {
   "display_name": "Python 3 (ipykernel)",
   "language": "python",
   "name": "python3"
  },
  "language_info": {
   "codemirror_mode": {
    "name": "ipython",
    "version": 3
   },
   "file_extension": ".py",
   "mimetype": "text/x-python",
   "name": "python",
   "nbconvert_exporter": "python",
   "pygments_lexer": "ipython3",
   "version": "3.10.9"
  }
 },
 "nbformat": 4,
 "nbformat_minor": 5
}
