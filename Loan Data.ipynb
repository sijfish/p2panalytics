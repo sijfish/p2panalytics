{
 "cells": [
  {
   "cell_type": "markdown",
   "id": "2f5ee05e-3335-430a-947d-f907779ede71",
   "metadata": {},
   "source": [
    "# P2P Lending Analytics"
   ]
  },
  {
   "cell_type": "code",
   "execution_count": 1,
   "id": "36630cd9-c76b-4ad7-bf22-99475d188541",
   "metadata": {},
   "outputs": [],
   "source": [
    "import numpy as np\n",
    "import pandas as pd"
   ]
  },
  {
   "cell_type": "code",
   "execution_count": 2,
   "id": "7485a094-6eb2-4e28-aa4f-a37e8163b2e9",
   "metadata": {},
   "outputs": [],
   "source": [
    "cash_df = pd.DataFrame(columns=['platform_account_name','nonib_cash','ib_cash'])\n",
    "concat_columns = -20 # no of columns required in the clean concatinated data frame"
   ]
  },
  {
   "cell_type": "markdown",
   "id": "a47872a8-bf83-4c02-8068-e140e4ee8cb4",
   "metadata": {},
   "source": [
    "#### Loanpad"
   ]
  },
  {
   "cell_type": "code",
   "execution_count": 3,
   "id": "98a870da-db56-435b-811e-21441f458741",
   "metadata": {
    "tags": []
   },
   "outputs": [],
   "source": [
    "##########################\n",
    "platform_account_name = 'Loanpad 60d access account'\n",
    "gross_apr = 0.054 # need to set APR manually for access account\n",
    "nonib_cash = 2.83 # need to set cash account that loanpad pays interest into. this is non-interest bearing until re-invested to access account\n",
    "##########################\n",
    "df = pd.read_csv('data/loanpad.csv')\n",
    "df['platform_account_name'] = platform_account_name\n",
    "df['loan_part_name'] = df['Loan ID'].astype('str')\n",
    "df['loan_part_id'] = df['Loan ID']\n",
    "df['loan_part_status'] = df['Loan status']\n",
    "df['loan_part_amt'] = pd.to_numeric(df['Your investment'].str.replace('£', ''))\n",
    "df['loan_part_matures'] = pd.to_datetime('today') + pd.Timedelta(60, unit='D') # 60 d access account\n",
    "df['loan_part_starts'] = pd.to_datetime('today') # 60 d access account\n",
    "df['loan_part_term'] = df['loan_part_matures'] - df['loan_part_starts']\n",
    "df['loan_part_ttm'] = df['loan_part_matures'] - pd.to_datetime('today')\n",
    "df['loan_part_blended_ltv'] = pd.to_numeric(df['Loan to value'].str.replace('%', '').str.replace('-', ''))/100\n",
    "df['loan_part_gross_apr'] = gross_apr\n",
    "df['loan_part_net_apr'] = df['loan_part_gross_apr'] # loanpad does not charge fees on apr / aer received\n",
    "loanpad_platf_amt = df['loan_part_amt'].sum()\n",
    "gbp_apr_per_day = df['loan_part_net_apr']/365*loanpad_platf_amt # loanpad pay APR daily\n",
    "no_days_to_gbp_10 = pd.to_numeric(10 / gbp_apr_per_day) # loanpad automatically reinvest in increments of GBP 10\n",
    "df['loan_part_int_per'] = (365 / no_days_to_gbp_10).astype('int')\n",
    "df['loan_part_gross_aer'] = (1+df['loan_part_net_apr']/df['loan_part_int_per'])**df['loan_part_int_per']-1\n",
    "df['loan_part_net_aer'] = df['loan_part_gross_aer'] # loanpad does not charge fees on apr / aer received\n",
    "df['loan_parts_in_loan'] = df['Loan Parts in Loan']\n",
    "ib_cash = df.loc[df['loan_part_name'] == 'Cash awaiting investment'] # find ib cash value in df\n",
    "cash_df.loc[len(cash_df)] = { 'platform_account_name': platform_account_name, 'nonib_cash': nonib_cash, 'ib_cash': ib_cash.loan_part_amt.values[0] } # set ib and nonib cash values\n",
    "df.drop(ib_cash.index.values[0], inplace=True) # drop ib cash value in df\n",
    "platform_weight = df['loan_part_amt']/( df['loan_part_amt'].sum() + ib_cash.loan_part_amt.values[0] )\n",
    "df['platform_weighted_net_aer'] = df['loan_part_net_aer']*platform_weight\n",
    "df['platform_weighted_blended_ltv'] = df['loan_part_blended_ltv']*platform_weight\n",
    "df['platform_weighted_term'] = df['loan_part_term'] / pd.Timedelta(days=30.44) * platform_weight\n",
    "df['platform_weighted_ttm'] = df['loan_part_ttm'] / pd.Timedelta(days=30.44) * platform_weight\n",
    "loanpad_df = df.iloc[:,concat_columns:]\n",
    "cash_df.to_csv('data/cash.csv')\n",
    "#loanpad_df.info()\n",
    "#loanpad_df.loc[0]"
   ]
  },
  {
   "cell_type": "markdown",
   "id": "d842bc2c-baa5-489c-bfd6-dbf91aaf180e",
   "metadata": {
    "tags": []
   },
   "source": [
    "#### PropLend"
   ]
  },
  {
   "cell_type": "code",
   "execution_count": 4,
   "id": "ad0bc533-8450-41e8-ad75-193d414241f8",
   "metadata": {},
   "outputs": [],
   "source": [
    "##########################\n",
    "platform_account_name = 'Proplend'\n",
    "nonib_cash = 13.79 # need to set cash account that proplend pays interest into. this is non-interest bearing until re-invested to access account\n",
    "##########################\n",
    "df = pd.read_csv('data/proplend.csv')\n",
    "df['platform_account_name'] = platform_account_name\n",
    "df['loan_part_name'] = df['Loan Name']\n",
    "df['loan_part_id'] = df['Loan Name'].astype('str')\n",
    "df['loan_part_status'] = df['Status']\n",
    "df['loan_part_amt'] = pd.to_numeric(df['Amount'].str.replace(',', ''))\n",
    "df['loan_part_term'] = df['Duration'].astype('timedelta64[M]')\n",
    "#df['loan_part_term'] = df['loan_part_matures'] - df['loan_part_starts']\n",
    "df['loan_part_matures'] = pd.to_datetime(df['End Date'], dayfirst=True)\n",
    "df['loan_part_starts'] = df['loan_part_matures'] - df['loan_part_term']\n",
    "df['loan_part_ttm'] = df['loan_part_matures'] - pd.to_datetime('today')\n",
    "df['loan_part_blended_ltv'] = pd.to_numeric(df['LTV'].str.replace('%', ''))/100\n",
    "df['loan_part_gross_apr'] = pd.to_numeric(df['Interest Rate'])/100\n",
    "df['loan_part_net_apr'] = df['loan_part_gross_apr']*.9 # proplend charge 10% fee on gross apr received from borrower\n",
    "df['loan_part_int_per'] = 12 # proplend roll up interest and pay apr monthly\n",
    "df['loan_part_gross_aer'] = (1+df['loan_part_net_apr']/df['loan_part_int_per'])**df['loan_part_int_per']-1\n",
    "df['loan_part_net_aer'] = df['loan_part_gross_aer'] # proplend charge a fee on APR\n",
    "df['loan_parts_in_loan'] = 1 # proplend do not tranche loans so its always 1 loan part to 1 loan\n",
    "ib_cash = 0 # PropLend has no interest bearing cash account\n",
    "cash_df.loc[len(cash_df)] = { 'platform_account_name': platform_account_name, 'nonib_cash': nonib_cash, 'ib_cash': ib_cash } # set ib and nonib cash values\n",
    "platform_weight = df['loan_part_amt']/( df['loan_part_amt'].sum() + ib_cash )\n",
    "df['platform_weighted_net_aer'] = df['loan_part_net_aer']*platform_weight\n",
    "df['platform_weighted_blended_ltv'] = df['loan_part_blended_ltv']*platform_weight\n",
    "df['platform_weighted_term'] = df['loan_part_term'] / pd.Timedelta(days=30.44) * platform_weight\n",
    "df['platform_weighted_ttm'] = df['loan_part_ttm'] / pd.Timedelta(days=30.44) * platform_weight\n",
    "proplend_df = df.iloc[:,concat_columns:]\n",
    "#proplend_df.info()"
   ]
  },
  {
   "cell_type": "markdown",
   "id": "de524d9c-698f-48f7-97c0-45549de7b46f",
   "metadata": {
    "tags": []
   },
   "source": [
    "#### CrowdProperty"
   ]
  },
  {
   "cell_type": "code",
   "execution_count": 5,
   "id": "5ae3fa0a-2b4b-41da-b3c7-5fad369aab1c",
   "metadata": {
    "tags": []
   },
   "outputs": [],
   "source": [
    "##########################\n",
    "platform_account_name = 'CrowdProperty AutoInvest'\n",
    "nonib_cash = 44.80 # need to set cash account that CrowProperty pays interest into. this is non-interest bearing until re-invested to auto-invest account\n",
    "##########################\n",
    "df = pd.read_csv('data/crowdproperty.csv')\n",
    "df['platform_account_name'] = platform_account_name\n",
    "df['loan_part_name'] = df['Description']\n",
    "df['loan_part_id'] = df['Bank Reference'].astype('str')\n",
    "df['loan_part_status'] = df['Status']\n",
    "df['loan_part_amt'] = pd.to_numeric(df['Amount']).astype('float')\n",
    "df['loan_part_matures'] = pd.to_datetime(df['Loan End'], format='%d/%m/%Y')\n",
    "df['loan_part_starts'] = pd.to_datetime(df['Loan Start'], format='%d/%m/%Y')\n",
    "df['loan_part_term'] = df['loan_part_matures'] - df['loan_part_starts']\n",
    "df['loan_part_ttm'] = df['loan_part_matures'] - pd.to_datetime('today')\n",
    "df['loan_part_blended_ltv'] = pd.to_numeric(df['Blended LTV'])\n",
    "df['loan_part_gross_apr'] = pd.to_numeric(df['Gross APR'])\n",
    "df['loan_part_net_apr'] =  pd.to_numeric(df['Net APR']) \n",
    "df['loan_part_int_per'] = 1 # crowdproperty roll up interest and pay apr annually\n",
    "df['loan_part_gross_aer'] = (1+df['loan_part_net_apr']/df['loan_part_int_per'])**df['loan_part_int_per']-1\n",
    "df['loan_part_net_aer'] = df['loan_part_gross_aer'] # crowdproperty charge a spread on APR\n",
    "df['loan_parts_in_loan'] = df['Loan Parts in Loan']\n",
    "loan_parts_repaid = df.loc[df['Status'] == 'Paid Back'].index.values\n",
    "df.drop(loan_parts_repaid, inplace=True) # drop repaid loans from dataframe\n",
    "ib_cash = 0 # crowdproperty has no interest bearing cash account\n",
    "cash_df.loc[len(cash_df)] = { 'platform_account_name': platform_account_name, 'nonib_cash': nonib_cash, 'ib_cash': ib_cash } # set ib and nonib cash values\n",
    "platform_weight = df['loan_part_amt']/( df['loan_part_amt'].sum() + ib_cash )\n",
    "df['platform_weighted_net_aer'] = df['loan_part_net_aer']*platform_weight\n",
    "df['platform_weighted_blended_ltv'] = df['loan_part_blended_ltv']*platform_weight\n",
    "df['platform_weighted_term'] = df['loan_part_term'] / pd.Timedelta(days=30.44) * platform_weight\n",
    "df['platform_weighted_ttm'] = df['loan_part_ttm'] / pd.Timedelta(days=30.44) * platform_weight\n",
    "crowdproperty_df = df.iloc[:,concat_columns:]\n",
    "#crowdproperty_df.info()"
   ]
  },
  {
   "cell_type": "markdown",
   "id": "bea09b2b-7acf-4358-8a05-86ef00b7b835",
   "metadata": {},
   "source": [
    "#### Invest & Fund"
   ]
  },
  {
   "cell_type": "code",
   "execution_count": 6,
   "id": "3b8396a0-18d5-47c3-a691-b74eb47c7e65",
   "metadata": {},
   "outputs": [],
   "source": [
    "##########################\n",
    "platform_account_name = 'Invest & Fund'\n",
    "nonib_cash = 5.58 # need to set cash account that Invest & Fund pays interest into. this is non-interest bearing until re-invested to auto-invest account\n",
    "##########################\n",
    "df = pd.read_csv('data/invest_fund.csv')\n",
    "df['platform_account_name'] = platform_account_name\n",
    "df['loan_part_name'] = df['Company Name']\n",
    "df['loan_part_id'] = df['Loan Ref'].astype('str')\n",
    "df['loan_part_status'] = 'Active'\n",
    "df['loan_part_amt'] = pd.to_numeric(df['Outstanding Balance']).astype('float')\n",
    "df['loan_part_term'] = pd.to_timedelta(pd.to_numeric(df['Term Remaining'].str.split('/ ').str[1].str.replace(' days','')), unit='D')\n",
    "df['loan_part_matures'] = pd.to_datetime(df['Maturity Date'], format='%d-%b-%y')\n",
    "df['loan_part_starts'] = df['loan_part_matures'] - df['loan_part_term']\n",
    "df['loan_part_ttm'] = df['loan_part_matures'] - pd.to_datetime('today')\n",
    "df['loan_part_blended_ltv'] = pd.to_numeric(df['Blended LTV'])/100\n",
    "df['loan_part_gross_apr'] = np.nan # i&f publish apr as well as aer but don't provide apr in their file\n",
    "df['loan_part_net_apr'] =  df['loan_part_gross_apr']\n",
    "df['loan_part_int_per'] = 12 # i&f pay aer with monthly compounding, but the rate in their file is already aer\n",
    "df['loan_part_gross_aer'] = pd.to_numeric(df['Interest Rate'].str.replace('%', ''))/100 # i&f only provide aer in their file\n",
    "df['loan_part_net_aer'] = df['loan_part_gross_aer']-0.0075 # i&f charge 0.75% spread on AER\n",
    "df['loan_parts_in_loan'] = df['Loan Parts in Loan']\n",
    "ib_cash = 0 # i&f has no interest bearing cash account\n",
    "cash_df.loc[len(cash_df)] = { 'platform_account_name': platform_account_name, 'nonib_cash': nonib_cash, 'ib_cash': ib_cash } # set ib and nonib cash values\n",
    "platform_weight = df['loan_part_amt']/( df['loan_part_amt'].sum() + ib_cash )\n",
    "df['platform_weighted_net_aer'] = df['loan_part_net_aer']*platform_weight\n",
    "df['platform_weighted_blended_ltv'] = df['loan_part_blended_ltv']*platform_weight\n",
    "df['platform_weighted_term'] = df['loan_part_term'] / pd.Timedelta(days=30.44) * platform_weight\n",
    "df['platform_weighted_ttm'] = df['loan_part_ttm'] / pd.Timedelta(days=30.44) * platform_weight\n",
    "invest_fund_df = df.iloc[:,concat_columns:]\n",
    "#invest_fund_df.info()"
   ]
  },
  {
   "cell_type": "markdown",
   "id": "23348167-88fd-4aa4-b7a4-1d837b144440",
   "metadata": {},
   "source": [
    "#### Assetz Capital"
   ]
  },
  {
   "cell_type": "code",
   "execution_count": 7,
   "id": "6d0d919a-fbe9-4ac2-b647-6995bec0a879",
   "metadata": {},
   "outputs": [],
   "source": [
    "##########################\n",
    "platform_account_name = 'Assetz Capital 90d Access'\n",
    "gross_apr = 0.04 # need to set APR manually for access account. This is the cap, actual could be lower month-to-month.\n",
    "nonib_cash = 0.0 # need to set cash account that Assetz Capital pays interest and replayments  through the winddown. this is non-interest bearing and needs to be withdrawn.\n",
    "winddown = pd.to_datetime('31/12/23', dayfirst=True) # expected date of completing winddown\n",
    "##########################\n",
    "df = pd.read_csv('data/assetz_capital.csv')\n",
    "df['platform_account_name'] = platform_account_name\n",
    "df['loan_part_name'] = df['name']\n",
    "df['loan_part_id'] = df['id'].astype('str')\n",
    "df['loan_part_status'] = 'Winddown' # azzetzaptial loan book is in wind down\n",
    "df['loan_part_amt'] = pd.to_numeric(df['your_total_holding']).astype('float')\n",
    "df['loan_part_matures'] = winddown\n",
    "df['loan_part_starts'] = pd.to_datetime('today') # irrelevant as loanbook is in windown\n",
    "df['loan_part_term'] = df['loan_part_matures'] - df['loan_part_starts']\n",
    "df['loan_part_ttm'] = df['loan_part_matures'] - pd.to_datetime('today')\n",
    "df['loan_part_blended_ltv'] = pd.to_numeric(df['ltv'])/100\n",
    "df['loan_part_gross_apr'] = pd.to_numeric(gross_apr)\n",
    "df['loan_part_net_apr'] =  df['loan_part_gross_apr'] # assetzcapital cap APR\n",
    "df['loan_part_int_per'] = 12 # assetzcapital pay APR monthly\n",
    "df['loan_part_gross_aer'] = (1+df['loan_part_net_apr']/df['loan_part_int_per'])**df['loan_part_int_per']-1\n",
    "df['loan_part_net_aer'] = df['loan_part_gross_aer'] # assetzcapital pay a fixed/capped apr, no spread on the published apr rate\n",
    "df['loan_parts_in_loan'] = 1 # assetzcapital generally do not tranche their loans, so its mostly 1 loan part to 1 loan\n",
    "ib_cash = 0 # assetzcapital has no interest bearing cash account\n",
    "cash_df.loc[len(cash_df)] = { 'platform_account_name': platform_account_name, 'nonib_cash': nonib_cash, 'ib_cash': ib_cash } # set ib and nonib cash values\n",
    "platform_weight = df['loan_part_amt']/( df['loan_part_amt'].sum() + ib_cash )\n",
    "df['platform_weighted_net_aer'] = df['loan_part_net_aer']*platform_weight\n",
    "df['platform_weighted_blended_ltv'] = df['loan_part_blended_ltv']*platform_weight\n",
    "df['platform_weighted_term'] = df['loan_part_term'] / pd.Timedelta(days=30.44) * platform_weight\n",
    "df['platform_weighted_ttm'] = df['loan_part_ttm'] / pd.Timedelta(days=30.44) * platform_weight\n",
    "assetz_capital_df = df.iloc[:,concat_columns:]\n",
    "#assetz_capital_df.info()"
   ]
  },
  {
   "cell_type": "markdown",
   "id": "456fcaf3-c99c-4004-9555-bc5b954522dc",
   "metadata": {},
   "source": [
    "#### Kuflink"
   ]
  },
  {
   "cell_type": "code",
   "execution_count": 8,
   "id": "f755a52e-ade7-42b2-963e-3bea1f09c15f",
   "metadata": {},
   "outputs": [],
   "source": [
    "##########################\n",
    "platform_account_name = 'Kuflink 12m Term 22043'\n",
    "nonib_cash = 0.0 # need to set cash account, but will typrically be 0 as term account rolls up interest payments until expiry\n",
    "ltv = 0.6533 # need to set ltv of the pooled account https://invest.kuflink.co.uk/product/pool\n",
    "gross_apr = 0.05 # need to set APR manually for term account. This is the cap, actual could be lower month-to-month.\n",
    "term_start = pd.to_datetime('29/07/22', format='%d/%m/%y')\n",
    "term_finish = pd.to_datetime('29/07/23', format='%d/%m/%y')\n",
    "##########################\n",
    "df = pd.read_csv('data/kuflink.csv')\n",
    "df['platform_account_name'] = platform_account_name\n",
    "df['loan_part_name'] = df['Loan Name']\n",
    "df['loan_part_id'] = df['Loan Id'].astype('str')\n",
    "df['loan_part_status'] = 'Active' # all loans in 12m term will be active\n",
    "df['loan_part_amt'] = pd.to_numeric(df['Monetary Amount'].str.replace('£', '')).astype('float')\n",
    "df['loan_part_matures'] = term_finish\n",
    "df['loan_part_starts'] = term_start\n",
    "df['loan_part_term'] = df['loan_part_matures'] - df['loan_part_starts']\n",
    "df['loan_part_ttm'] = df['loan_part_matures'] - pd.to_datetime('today')\n",
    "df['loan_part_blended_ltv'] = ltv\n",
    "df['loan_part_gross_apr'] = gross_apr\n",
    "df['loan_part_net_apr'] =  df['loan_part_gross_apr'] # kuflink term caps APR\n",
    "df['loan_part_int_per'] = int((term_finish - term_start).days/365) # kuflink term pays interest annually\n",
    "df['loan_part_gross_aer'] = (1+df['loan_part_net_apr']/df['loan_part_int_per'])**df['loan_part_int_per']-1\n",
    "df['loan_part_net_aer'] = df['loan_part_gross_aer'] # kuflink pay a fixed/capped apr, no spread on the published apr rate\n",
    "df['loan_parts_in_loan'] = df['Loan Parts in Loan']\n",
    "ib_cash = 0 # kuflink has no interest bearing cash account\n",
    "cash_df.loc[len(cash_df)] = { 'platform_account_name': platform_account_name, 'nonib_cash': nonib_cash, 'ib_cash': ib_cash } # set ib and nonib cash values\n",
    "platform_weight = df['loan_part_amt']/( df['loan_part_amt'].sum() + ib_cash )\n",
    "df['platform_weighted_net_aer'] = df['loan_part_net_aer']*platform_weight\n",
    "df['platform_weighted_blended_ltv'] = df['loan_part_blended_ltv']*platform_weight\n",
    "df['platform_weighted_term'] = df['loan_part_term'] / pd.Timedelta(days=30.44) * platform_weight\n",
    "df['platform_weighted_ttm'] = df['loan_part_ttm'] / pd.Timedelta(days=30.44) * platform_weight\n",
    "kuflink_df = df.iloc[:,concat_columns:]\n",
    "#kuflink_df.info()"
   ]
  },
  {
   "cell_type": "markdown",
   "id": "2b83ec34-9fa2-4d3f-b32c-3c793e823d17",
   "metadata": {},
   "source": [
    "### Concatenate Data"
   ]
  },
  {
   "cell_type": "code",
   "execution_count": 9,
   "id": "f0586a37-a352-4df0-bbe7-b821ff705fb4",
   "metadata": {},
   "outputs": [],
   "source": [
    "concat_df = pd.concat([loanpad_df, proplend_df, crowdproperty_df, invest_fund_df, assetz_capital_df, kuflink_df], axis=0, ignore_index=True)\n",
    "concat_df.to_csv('data/concatenated.csv')\n",
    "cash_df.to_csv('data/cash.csv')\n",
    "#concat_df.info()"
   ]
  },
  {
   "cell_type": "markdown",
   "id": "f69f3b46-f8b2-48d1-aca3-41527fa54ff2",
   "metadata": {},
   "source": [
    "### Enrich Data"
   ]
  },
  {
   "cell_type": "code",
   "execution_count": 10,
   "id": "ff93033c-e39b-4f4e-a939-6225c0e94c0e",
   "metadata": {},
   "outputs": [],
   "source": [
    "concat_df['loan_portion'] = 1/concat_df['loan_parts_in_loan']\n",
    "portfolio_ib_cash = cash_df['ib_cash'].sum()\n",
    "portfolio_nonib_cash = cash_df['nonib_cash'].sum()\n",
    "portfolio_weight = concat_df['loan_part_amt']/(concat_df['loan_part_amt'].sum() + portfolio_ib_cash) # weighting inc. of intrest bearing cash\n",
    "portfolio_weight_inc_nonib_cash = concat_df['loan_part_amt']/(concat_df['loan_part_amt'].sum() + portfolio_ib_cash + portfolio_nonib_cash) # wighting inc. of interest and non-interest bearing cash\n",
    "concat_df['portfolio_weighted_net_aer'] = concat_df['loan_part_net_aer']*portfolio_weight\n",
    "concat_df['portfolio_weighted_net_aer_inc_nonib_cash'] = concat_df['loan_part_net_aer']*portfolio_weight_inc_nonib_cash\n",
    "concat_df['portfolio_weighted_blended_ltv'] = concat_df['loan_part_blended_ltv']*portfolio_weight\n",
    "concat_df['portfolio_weighted_blended_ltv_inc_nonib_cash'] = concat_df['loan_part_blended_ltv']*portfolio_weight_inc_nonib_cash\n",
    "concat_df['portfolio_weighted_term'] = concat_df['loan_part_term'] / pd.Timedelta(days=30.44) * portfolio_weight\n",
    "concat_df['portfolio_weighted_ttm'] = concat_df['loan_part_ttm'] / pd.Timedelta(days=30.44) * portfolio_weight\n",
    "\n",
    "status_dict = { 'Extended (No ICF)': 'Active',\n",
    "                'Active - Good Standing': 'Active',\n",
    "                'Live': 'Active' }\n",
    "period_dict = { pd.to_datetime('today'): 'Short Default',\n",
    "                pd.to_datetime('today') - np.timedelta64(3, 'M'): 'Long Default'}\n",
    "ttm_arr = [ 'platform_weighted_ttm', 'portfolio_weighted_ttm' ]\n",
    "term_arr = [ 'platform_weighted_term', 'portfolio_weighted_term' ]\n",
    "default_criteria = ((concat_df['loan_part_status'] == 'Short Default') \n",
    "              | (concat_df['loan_part_status'] == 'Long Default') \n",
    "              | (concat_df['loan_part_status'] == 'Winddown'))\n",
    "\n",
    "for status in status_dict:\n",
    "    concat_df['loan_part_status'].mask(concat_df['loan_part_status'] == status, status_dict[status], inplace=True)    \n",
    "for period in period_dict:\n",
    "    concat_df['loan_part_status'].mask( concat_df['loan_part_matures'] < period, period_dict[period], inplace=True)\n",
    "for col in ttm_arr: # zeroize ttm for defaulted or it will underweight ttm\n",
    "    concat_df[col].mask(default_criteria, np.nan, inplace=True)\n",
    "for col in term_arr: # zeroize weighted term for negative term or it will unerweight term\n",
    "    concat_df[col].mask(concat_df['loan_part_term'] < pd.Timedelta(0), np.nan, inplace=True)\n",
    "\n",
    "concat_df.to_csv('data/concatenated.csv')\n",
    "# concat_df.info()\n",
    "# correct weights for defaulted loans and negative terms / ttms\n",
    "# sector\n",
    "# month maturity"
   ]
  }
 ],
 "metadata": {
  "kernelspec": {
   "display_name": "Python 3 (ipykernel)",
   "language": "python",
   "name": "python3"
  },
  "language_info": {
   "codemirror_mode": {
    "name": "ipython",
    "version": 3
   },
   "file_extension": ".py",
   "mimetype": "text/x-python",
   "name": "python",
   "nbconvert_exporter": "python",
   "pygments_lexer": "ipython3",
   "version": "3.10.9"
  }
 },
 "nbformat": 4,
 "nbformat_minor": 5
}
