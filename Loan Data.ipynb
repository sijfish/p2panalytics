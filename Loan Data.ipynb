{
 "cells": [
  {
   "cell_type": "code",
   "execution_count": 2,
   "id": "36630cd9-c76b-4ad7-bf22-99475d188541",
   "metadata": {},
   "outputs": [],
   "source": [
    "import numpy as np\n",
    "import pandas as pd"
   ]
  },
  {
   "cell_type": "code",
   "execution_count": 30,
   "id": "7485a094-6eb2-4e28-aa4f-a37e8163b2e9",
   "metadata": {},
   "outputs": [],
   "source": [
    "cash_df = pd.DataFrame(columns=['platform_account_name','nonib_cash','ib_cash'])\n",
    "concat_columns = -24 # no of columns required in the clean concatinated data frame\n",
    "concat_trx_columns = -5 # no of columns required in the clean concatinated_trx data frame\n",
    "\n",
    "def platform_data_header(): # function for data enrichment common to all platforms e.g. platform name and sector\n",
    "    df['platform_account_name'] = platform_account_name\n",
    "    df['platform_account_sector'] = platform_account_sector\n",
    "\n",
    "def platform_data_footer(): # function for data enrichment common to all platforms e.g. platform weighted values\n",
    "    cash_df.loc[len(cash_df)] = { 'platform_account_name': platform_account_name, 'nonib_cash': nonib_cash, 'ib_cash': ib_cash } # set ib and nonib cash values\n",
    "    platform_weight = df['loan_part_amt']/( df['loan_part_amt'].sum() + ib_cash )\n",
    "    portfolio_weight_exc_negttm = df['loan_part_amt']/df.loc[df['loan_part_ttm_days'] >= 0, 'loan_part_amt'].sum() # weighting exc. negative time to maturity (principal default)\n",
    "    portfolio_weight_exc_negterm = df['loan_part_amt']/df.loc[df['loan_part_term_months'] >= 0, 'loan_part_amt'].sum() # weighting excl. negative term\n",
    "\n",
    "    if platform_account_name != 'Assetz Capital 90d Access':\n",
    "        df['loan_part_maturity_extended_days'] = (df['loan_part_matures'] - df['loan_part_original_maturity']).dt.days\n",
    "        df['platform_weighted_maturity_extended_days'] = df['loan_part_maturity_extended_days']*platform_weight\n",
    "    df['platform_weighted_net_aer'] = df['loan_part_net_aer']*platform_weight\n",
    "    df['platform_weighted_blended_ltv'] = df['loan_part_blended_ltv']*platform_weight\n",
    "    df.loc[df['loan_part_term_months'] >= 0, 'platform_weighted_term_months'] = df['loan_part_term_months'] * portfolio_weight_exc_negterm # weighted term if not negative\n",
    "    df.loc[df['loan_part_ttm_days'] >= 0, 'platform_weighted_ttm_months'] = df['loan_part_ttm_days'] / 30.44 * portfolio_weight_exc_negttm # weighted ttm if not negative\n",
    "\n",
    "def platform_data_print():\n",
    "    print(\"Loan amt: {}\".format(df['loan_part_amt'].sum()))\n",
    "    print(\"Int bearing amt: {}\".format(df['loan_part_amt'].sum()+ib_cash))\n",
    "    print(\"Non-IB cash: {}\".format(nonib_cash))\n",
    "    print(\"Total amt: {}\".format(df['loan_part_amt'].sum()+ib_cash+nonib_cash))\n",
    "    \n",
    "def platform_trx_data_print():\n",
    "    print(\"First trx: {}\".format(df['trx_date'].min().date()))\n",
    "    print(\"Last trx: {}\".format(df['trx_date'].max().date()))\n",
    "    print(\"No. of trx: {}\".format(df.shape[0]))\n",
    "    print(\"Sum of trx: {}\".format(df['trx_amt'].sum()))    "
   ]
  },
  {
   "cell_type": "markdown",
   "id": "a47872a8-bf83-4c02-8068-e140e4ee8cb4",
   "metadata": {},
   "source": [
    "#### Loanpad"
   ]
  },
  {
   "cell_type": "code",
   "execution_count": 3,
   "id": "98a870da-db56-435b-811e-21441f458741",
   "metadata": {
    "tags": []
   },
   "outputs": [
    {
     "name": "stdout",
     "output_type": "stream",
     "text": [
      "Loan amt: 5506.867061\n",
      "Int bearing amt: 5580.0\n",
      "Non-IB cash: 7.14\n",
      "Total amt: 5587.14\n"
     ]
    }
   ],
   "source": [
    "########################## LOAN PARTS ##########################\n",
    "platform_account_name = 'Loanpad 60d Access'\n",
    "platform_account_sector = 'Development'\n",
    "gross_apr = 0.065 # need to set APR manually for access account\n",
    "nonib_cash = 7.14 # need to set cash account that loanpad pays interest into. this is non-interest bearing until re-invested to access account\n",
    "# platform_accout_total_loan = \n",
    "################################################################\n",
    "df = pd.read_csv('data/loanpad.csv')\n",
    "platform_data_header() # function for data enrichment common to all platforms e.g. platform name and sector\n",
    "df['loan_part_name'] = df['Loan ID'].astype('str')\n",
    "df['loan_part_id'] = df['Loan ID']\n",
    "df['loan_part_status'] = df['Loan status']\n",
    "df['loan_part_amt'] = pd.to_numeric(df['Your investment'].str.replace('£', ''))\n",
    "df['loan_part_term_months'] = 2 # 60 d access account\n",
    "df['loan_part_starts'] = np.nan # not provided\n",
    "df['loan_part_matures'] = pd.to_datetime(df['Maturity'], errors='coerce')\n",
    "df['loan_part_original_maturity'] = pd.to_datetime(df['Original maturity date'], dayfirst=True, errors='coerce')\n",
    "df['loan_part_ttm_days'] = 60 # 60 d access account\n",
    "df['loan_part_blended_ltv'] = pd.to_numeric(df['Loan to value'].str.replace('%', '').str.replace('-', ''))/100\n",
    "df['loan_part_gross_apr'] = gross_apr\n",
    "df['loan_part_net_apr'] = df['loan_part_gross_apr'] # loanpad does not charge fees on apr / aer received\n",
    "loanpad_platf_amt = df['loan_part_amt'].sum()\n",
    "gbp_apr_per_day = df['loan_part_net_apr']/365*loanpad_platf_amt # loanpad pay APR daily\n",
    "no_days_to_gbp_10 = pd.to_numeric(10 / gbp_apr_per_day) # loanpad automatically reinvest in increments of GBP 10\n",
    "df['loan_part_int_per'] = (365 / no_days_to_gbp_10).astype('int')\n",
    "df['loan_part_gross_aer'] = (1+df['loan_part_net_apr']/df['loan_part_int_per'])**df['loan_part_int_per']-1\n",
    "df['loan_part_net_aer'] = df['loan_part_gross_aer'] # loanpad does not charge fees on apr / aer received\n",
    "df['loan_parts_in_loan'] = df['Loan Parts in Loan']\n",
    "ib_cash_row = df.loc[df['loan_part_name'] == 'Cash awaiting investment'] # find ib cash value in df\n",
    "ib_cash = ib_cash_row.loan_part_amt.values[0]\n",
    "df.drop(ib_cash_row.index.values[0], inplace=True) # drop ib cash value in df\n",
    "platform_data_footer() # function for data enrichment common to all platforms e.g. platform weighted values\n",
    "loanpad_df = df.iloc[:,concat_columns:]\n",
    "platform_data_print() # print data"
   ]
  },
  {
   "cell_type": "code",
   "execution_count": null,
   "id": "74f3b91a-281b-4c94-9c5a-0a37f405ddc6",
   "metadata": {},
   "outputs": [],
   "source": [
    "######################### TRANSACTIONS #########################\n",
    "df = pd.read_csv('data/loanpad_trx.csv')\n",
    "df['platform_account_name'] = platform_account_name\n",
    "df['trx_date'] = pd.to_datetime(df['Date'])\n",
    "df['trx_desc'] = df['Description']\n",
    "df['trx_type'] = df['Description']\n",
    "df['trx_amt'] = df['Amount']\n",
    "proplend_df = df.iloc[:,concat_trx_columns:]\n",
    "platform_trx_data_print() # print data"
   ]
  },
  {
   "cell_type": "markdown",
   "id": "d842bc2c-baa5-489c-bfd6-dbf91aaf180e",
   "metadata": {
    "tags": []
   },
   "source": [
    "#### PropLend"
   ]
  },
  {
   "cell_type": "code",
   "execution_count": 26,
   "id": "ad0bc533-8450-41e8-ad75-193d414241f8",
   "metadata": {},
   "outputs": [
    {
     "name": "stdout",
     "output_type": "stream",
     "text": [
      "Loan amt: 3000.0\n",
      "Int bearing amt: 3000.0\n",
      "Non-IB cash: 5.45\n",
      "Total amt: 3005.45\n"
     ]
    }
   ],
   "source": [
    "########################## LOAN PARTS ##########################\n",
    "platform_account_name = 'Proplend'\n",
    "platform_account_sector = 'Commercial'\n",
    "nonib_cash = 5.45 # need to set cash account that proplend pays interest into. this is non-interest bearing until re-invested to access account\n",
    "# platform_accout_total_loan = \n",
    "################################################################\n",
    "ib_cash = 0.0 # PropLend has no interest bearing cash account\n",
    "df = pd.read_csv('data/proplend.csv')\n",
    "platform_data_header() # function for data enrichment common to all platforms e.g. platform name and sector\n",
    "df['loan_part_name'] = df['Loan Name']\n",
    "df['loan_part_id'] = df['Loan Name'].astype('str')\n",
    "df['loan_part_status'] = df['Status']\n",
    "df['loan_part_amt'] = pd.to_numeric(df['Amount'].str.replace(',', ''))\n",
    "df['loan_part_term_months'] = pd.to_numeric(df['Duration'])\n",
    "df['loan_part_starts'] = np.nan\n",
    "df['loan_part_matures'] = pd.to_datetime(df['End Date'], dayfirst=True)\n",
    "df['loan_part_original_maturity'] = df['loan_part_matures'] # PropLend does not extend maturity dates\n",
    "df['loan_part_ttm_days'] = (df['loan_part_matures'] - pd.to_datetime('today')).dt.days\n",
    "df['loan_part_blended_ltv'] = pd.to_numeric(df['LTV'].str.replace('%', ''))/100\n",
    "df['loan_part_gross_apr'] = pd.to_numeric(df['Interest Rate'])/100\n",
    "df['loan_part_net_apr'] = df['loan_part_gross_apr']*.9 # proplend charge 10% fee on gross apr received from borrower\n",
    "df['loan_part_int_per'] = 12 # proplend roll up interest and pay apr monthly\n",
    "df['loan_part_gross_aer'] = (1+df['loan_part_net_apr']/df['loan_part_int_per'])**df['loan_part_int_per']-1\n",
    "df['loan_part_net_aer'] = df['loan_part_gross_aer'] # proplend charge a fee on APR\n",
    "df['loan_parts_in_loan'] = 1 # proplend do not tranche loans so its always 1 loan part to 1 loan\n",
    "platform_data_footer() # function for data enrichment common to all platforms e.g. platform weighted values\n",
    "proplend_df = df.iloc[:,concat_columns:]\n",
    "platform_data_print() # print data"
   ]
  },
  {
   "cell_type": "code",
   "execution_count": 32,
   "id": "31ecf292-84ee-46c6-acfb-4738f82efeb4",
   "metadata": {},
   "outputs": [
    {
     "name": "stdout",
     "output_type": "stream",
     "text": [
      "First trx: 2022-06-20\n",
      "Last trx: 2024-07-10\n",
      "No. of trx: 160\n",
      "Sum of trx: 16.485000002100193\n"
     ]
    }
   ],
   "source": [
    "######################### TRANSACTIONS #########################\n",
    "df = pd.read_csv('data/proplend_trx.csv')\n",
    "df['platform_account_name'] = platform_account_name\n",
    "df['trx_date'] = pd.to_datetime(df['Date'])\n",
    "df['trx_desc'] = df['Description']\n",
    "df['trx_type'] = df['Description']\n",
    "df['trx_amt'] = df['Amount']\n",
    "proplend_df = df.iloc[:,concat_trx_columns:]\n",
    "platform_trx_data_print() # print data"
   ]
  },
  {
   "cell_type": "markdown",
   "id": "de524d9c-698f-48f7-97c0-45549de7b46f",
   "metadata": {
    "tags": []
   },
   "source": [
    "#### CrowdProperty"
   ]
  },
  {
   "cell_type": "code",
   "execution_count": 5,
   "id": "5ae3fa0a-2b4b-41da-b3c7-5fad369aab1c",
   "metadata": {
    "tags": []
   },
   "outputs": [
    {
     "name": "stdout",
     "output_type": "stream",
     "text": [
      "Loan amt: 1717.8500000000001\n",
      "Int bearing amt: 1717.8500000000001\n",
      "Non-IB cash: 0\n",
      "Total amt: 1717.8500000000001\n"
     ]
    }
   ],
   "source": [
    "########################## LOAN PARTS ##########################\n",
    "platform_account_name = 'CrowdProperty AutoInvest'\n",
    "platform_account_sector = 'Development'\n",
    "nonib_cash = 0 # need to set cash account that CrowProperty pays interest into. this is non-interest bearing until re-invested to auto-invest account\n",
    "# platform_accout_total_loan = \n",
    "################################################################\n",
    "ib_cash = 0.0 # crowdproperty has no interest bearing cash account\n",
    "df = pd.read_csv('data/crowdproperty.csv')\n",
    "platform_data_header() # function for data enrichment common to all platforms e.g. platform name and sector\n",
    "df['loan_part_name'] = df['Project']\n",
    "df['loan_part_id'] = df['Bank Reference'].astype('str')\n",
    "df['loan_part_status'] = df['Status']\n",
    "df['loan_part_amt'] = pd.to_numeric(df['Outstanding Capital']).astype('float')\n",
    "df['loan_part_matures'] = pd.to_datetime(df['Loan End'], format='%d/%m/%Y')\n",
    "df['loan_part_original_maturity'] = pd.to_datetime(df['Original maturity date'], dayfirst=True, errors='coerce')\n",
    "df['loan_part_starts'] = pd.to_datetime(df['Loan Start'], format='%d/%m/%Y')\n",
    "df['loan_part_term_months'] = (df['loan_part_matures'] - df['loan_part_starts']).dt.days / 30.437\n",
    "df['loan_part_ttm_days'] = (df['loan_part_matures'] - pd.to_datetime('today')).dt.days\n",
    "df['loan_part_blended_ltv'] = pd.to_numeric(df['Blended LTV'].str.replace('%', ''))/100\n",
    "df['loan_part_gross_apr'] = pd.to_numeric(df['Gross APR'].str.replace('%', ''))/100\n",
    "df['loan_part_net_apr'] = pd.to_numeric(df['Net APR'].str.replace('%', ''))/100\n",
    "df['loan_part_int_per'] = 1 # crowdproperty roll up interest and pay apr annually\n",
    "df['loan_part_gross_aer'] = (1+df['loan_part_net_apr']/df['loan_part_int_per'])**df['loan_part_int_per']-1\n",
    "df['loan_part_net_aer'] = df['loan_part_gross_aer'] # crowdproperty charge a spread on APR\n",
    "df['loan_parts_in_loan'] = df['Loan Parts in Loan']\n",
    "loan_parts_repaid = df.loc[df['Status'] == 'Paid Back'].index.values\n",
    "loan_parts_repaid = df.loc[df['Status'] == 'Paid Back in Full'].index.values\n",
    "df.drop(loan_parts_repaid, inplace=True) # drop repaid loans from dataframe\n",
    "platform_data_footer() # function for data enrichment common to all platforms e.g. platform weighted values\n",
    "crowdproperty_df = df.iloc[:,concat_columns:]\n",
    "platform_data_print() # print data"
   ]
  },
  {
   "cell_type": "code",
   "execution_count": null,
   "id": "1f8f2bcb-397c-4ddb-ad6f-928cd4deff59",
   "metadata": {},
   "outputs": [],
   "source": [
    "######################### TRANSACTIONS #########################\n",
    "df = pd.read_csv('data/crowdproperty_trx.csv')\n",
    "df['platform_account_name'] = platform_account_name\n",
    "df['trx_date'] = df[]\n",
    "df['trx_desc'] = df[]\n",
    "df['trx_amt'] = df[]\n",
    "df['trx_type'] = df[]"
   ]
  },
  {
   "cell_type": "markdown",
   "id": "bea09b2b-7acf-4358-8a05-86ef00b7b835",
   "metadata": {},
   "source": [
    "#### Invest & Fund"
   ]
  },
  {
   "cell_type": "code",
   "execution_count": 6,
   "id": "3b8396a0-18d5-47c3-a691-b74eb47c7e65",
   "metadata": {},
   "outputs": [
    {
     "name": "stdout",
     "output_type": "stream",
     "text": [
      "Loan amt: 3117.3\n",
      "Int bearing amt: 3117.3\n",
      "Non-IB cash: 4.54\n",
      "Total amt: 3121.84\n"
     ]
    }
   ],
   "source": [
    "########################## LOAN PARTS ##########################\n",
    "platform_account_name = 'Invest & Fund'\n",
    "platform_account_sector = 'Development'\n",
    "nonib_cash = 4.54 # need to set cash account that Invest & Fund pays interest into. this is non-interest bearing until re-invested to auto-invest account\n",
    "# platform_accout_total_loan = \n",
    "################################################################\n",
    "ib_cash = 0.0 # i&f has no interest bearing cash account\n",
    "df = pd.read_csv('data/invest_fund.csv')\n",
    "platform_data_header() # function for data enrichment common to all platforms e.g. platform name and sector\n",
    "df['loan_part_name'] = df['Company Name']\n",
    "df['loan_part_id'] = df['Loan Ref'].astype('str')\n",
    "df['loan_part_status'] = 'Active'\n",
    "df['loan_part_amt'] = pd.to_numeric(df['Outstanding Balance']).astype('float')\n",
    "df['loan_part_term_months'] = pd.to_numeric(df['Term Remaining'].str.split('/ ').str[1].str.replace(' days','')) / 30.437\n",
    "df['loan_part_starts'] = np.nan\n",
    "df['loan_part_matures'] = pd.to_datetime(df['Maturity Date'], format='%d-%b-%y')\n",
    "df['loan_part_original_maturity'] = pd.to_datetime(df['Original maturity date'], dayfirst=True, errors='coerce')\n",
    "df['loan_part_ttm_days'] = (df['loan_part_matures'] - pd.to_datetime('today')).dt.days\n",
    "df['loan_part_blended_ltv'] = pd.to_numeric(df['Blended LTV'])/100\n",
    "df['loan_part_gross_apr'] = np.nan # i&f publish apr as well as aer but don't provide apr in their file\n",
    "df['loan_part_net_apr'] =  df['loan_part_gross_apr']\n",
    "df['loan_part_int_per'] = 12 # i&f pay aer with monthly compounding, but the rate in their file is already aer\n",
    "df['loan_part_gross_aer'] = pd.to_numeric(df['Interest Rate'].str.replace('%', ''))/100 # i&f only provide aer in their file\n",
    "df['loan_part_net_aer'] = df['loan_part_gross_aer']-0.0075 # i&f charge 0.75% spread on AER\n",
    "df['loan_parts_in_loan'] = df['Loan Parts in Loan']\n",
    "platform_data_footer() # function for data enrichment common to all platforms e.g. platform weighted values\n",
    "invest_fund_df = df.iloc[:,concat_columns:]\n",
    "platform_data_print() # print data"
   ]
  },
  {
   "cell_type": "markdown",
   "id": "23348167-88fd-4aa4-b7a4-1d837b144440",
   "metadata": {},
   "source": [
    "#### Assetz Capital"
   ]
  },
  {
   "cell_type": "code",
   "execution_count": 7,
   "id": "6d0d919a-fbe9-4ac2-b647-6995bec0a879",
   "metadata": {},
   "outputs": [
    {
     "name": "stdout",
     "output_type": "stream",
     "text": [
      "Loan amt: 680.3540434684389\n",
      "Int bearing amt: 680.3540434684389\n",
      "Non-IB cash: 46.1\n",
      "Total amt: 726.454043468439\n"
     ]
    }
   ],
   "source": [
    "########################## LOAN PARTS ##########################\n",
    "platform_account_name = 'Assetz Capital 90d Access'\n",
    "platform_account_sector = 'Commercial'\n",
    "gross_apr = 0.04 # need to set APR manually for access account. This is the cap, actual could be lower month-to-month.\n",
    "nonib_cash = 46.10 # need to set cash account that Assetz Capital pays interest and replayments  through the winddown. this is non-interest bearing and needs to be withdrawn.\n",
    "# platform_accout_total_loan = \n",
    "################################################################\n",
    "ib_cash = 0 # assetzcapital has no interest bearing cash account\n",
    "df = pd.read_csv('data/assetz_capital.csv')\n",
    "platform_data_header() # function for data enrichment common to all platforms e.g. platform name and sector\n",
    "df['loan_part_name'] = df['name']\n",
    "df['loan_part_id'] = df['id'].astype('str')\n",
    "df['loan_part_status'] = df['risk_category']\n",
    "df['loan_part_amt'] = pd.to_numeric(df['your_total_holding']).astype('float')\n",
    "df['loan_part_term_months'] = df['loan_term'].astype(int)\n",
    "df['loan_part_starts'] = np.nan # assetzcapital export does not provide loan start / end dates\n",
    "df['loan_part_matures'] = np.nan # assetzcapital export does not provide loan start / end dates\n",
    "df['loan_part_original_maturity'] = np.nan # assetzcapital export does not provide loan start / end dates\n",
    "df['loan_part_ttm_days'] = round(df['term_remaining']*33.44).astype(int)\n",
    "df['loan_part_blended_ltv'] = pd.to_numeric(df['ltv'])/100\n",
    "df['loan_part_gross_apr'] = pd.to_numeric(gross_apr)\n",
    "df['loan_part_net_apr'] =  df['loan_part_gross_apr'] # assetzcapital cap APR\n",
    "df['loan_part_int_per'] = 12 # assetzcapital pay APR monthly\n",
    "df['loan_part_gross_aer'] = (1+df['loan_part_net_apr']/df['loan_part_int_per'])**df['loan_part_int_per']-1\n",
    "df['loan_part_net_aer'] = df['loan_part_gross_aer'] # assetzcapital pay a fixed/capped apr, no spread on the published apr rate\n",
    "df['loan_parts_in_loan'] = 1 # assetzcapital generally do not tranche their loans, so its mostly 1 loan part to 1 loan\n",
    "platform_data_footer() # function for data enrichment common to all platforms e.g. platform weighted values\n",
    "assetz_capital_df = df.iloc[:,concat_columns:]\n",
    "platform_data_print() # print data"
   ]
  },
  {
   "cell_type": "markdown",
   "id": "456fcaf3-c99c-4004-9555-bc5b954522dc",
   "metadata": {},
   "source": [
    "#### Kuflink"
   ]
  },
  {
   "cell_type": "code",
   "execution_count": 8,
   "id": "f755a52e-ade7-42b2-963e-3bea1f09c15f",
   "metadata": {
    "tags": []
   },
   "outputs": [
    {
     "name": "stdout",
     "output_type": "stream",
     "text": [
      "Loan amt: 1043.8999999999999\n",
      "Int bearing amt: 1050.9899999999998\n",
      "Non-IB cash: 0.0\n",
      "Total amt: 1050.9899999999998\n"
     ]
    }
   ],
   "source": [
    "########################## LOAN PARTS ##########################\n",
    "platform_account_name = 'Kuflink 24m Term 28133'\n",
    "platform_account_sector = 'Development'\n",
    "nonib_cash = 0.0 # need to set cash account, but will typically be 0 as term account rolls up interest payments until expiry\n",
    "ib_cash = 7.09 # if there is any \"Unallocated Amount\" in the mandate, it's still interest bearing\n",
    "ltv = 0.6106 # need to set ltv of the pooled account https://invest.kuflink.co.uk/product/pool\n",
    "gross_apr = 0.08 # need to set APR manually for term account. This is the cap, actual could be lower month-to-month.\n",
    "term_start = pd.to_datetime('01/08/23', format='%d/%m/%y')\n",
    "term_finish = pd.to_datetime('01/08/25', format='%d/%m/%y')\n",
    "term_months = 24\n",
    "# platform_accout_total_loan = \n",
    "################################################################\n",
    "df = pd.read_csv('data/kuflink.csv')\n",
    "platform_data_header() # function for data enrichment common to all platforms e.g. platform name and sector\n",
    "df['loan_part_name'] = df['Loan Name']\n",
    "df['loan_part_id'] = df['Loan Id'].astype('str')\n",
    "df['loan_part_status'] = df['Loan Status']\n",
    "df['loan_part_amt'] = pd.to_numeric(df['Monetary Amount'].str.replace('£', '')).astype('float')\n",
    "df['loan_part_matures'] = pd.to_datetime(df['Loan End Date'], dayfirst=True)\n",
    "df['loan_part_original_maturity'] = pd.to_datetime(df['Original maturity date'], dayfirst=True, errors='coerce')\n",
    "df['loan_part_starts'] = pd.to_datetime(df['Loan Advance Date'], dayfirst=True)\n",
    "df['loan_part_term_months'] = term_months\n",
    "df['loan_part_ttm_days'] = (term_finish - pd.to_datetime('today')).days\n",
    "df['loan_part_blended_ltv'] = ltv\n",
    "df['loan_part_gross_apr'] = gross_apr\n",
    "df['loan_part_net_apr'] =  df['loan_part_gross_apr'] # kuflink term caps APR\n",
    "df['loan_part_int_per'] = 1 # kuflink term pays interest annually\n",
    "df['loan_part_gross_aer'] = (1+df['loan_part_net_apr']/df['loan_part_int_per'])**df['loan_part_int_per']-1\n",
    "df['loan_part_net_aer'] = df['loan_part_gross_aer'] # kuflink pay a fixed/capped apr, no spread on the published apr rate\n",
    "df['loan_parts_in_loan'] = df['Loan Parts in Loan']\n",
    "platform_data_footer() # function for data enrichment common to all platforms e.g. platform weighted values\n",
    "kuflink_df = df.iloc[:,concat_columns:]\n",
    "platform_data_print() # print data"
   ]
  },
  {
   "cell_type": "markdown",
   "id": "f69f3b46-f8b2-48d1-aca3-41527fa54ff2",
   "metadata": {},
   "source": [
    "#### Concat & enrich"
   ]
  },
  {
   "cell_type": "code",
   "execution_count": 9,
   "id": "ff93033c-e39b-4f4e-a939-6225c0e94c0e",
   "metadata": {},
   "outputs": [
    {
     "name": "stdout",
     "output_type": "stream",
     "text": [
      "<class 'pandas.core.frame.DataFrame'>\n",
      "RangeIndex: 1048 entries, 0 to 1047\n",
      "Data columns (total 34 columns):\n",
      " #   Column                                         Non-Null Count  Dtype         \n",
      "---  ------                                         --------------  -----         \n",
      " 0   platform_account_name                          1048 non-null   object        \n",
      " 1   platform_account_sector                        1048 non-null   object        \n",
      " 2   loan_part_name                                 1048 non-null   object        \n",
      " 3   loan_part_id                                   1048 non-null   object        \n",
      " 4   loan_part_status                               1048 non-null   object        \n",
      " 5   loan_part_amt                                  1048 non-null   float64       \n",
      " 6   loan_part_term_months                          1048 non-null   float64       \n",
      " 7   loan_part_starts                               516 non-null    datetime64[ns]\n",
      " 8   loan_part_matures                              886 non-null    datetime64[ns]\n",
      " 9   loan_part_original_maturity                    882 non-null    datetime64[ns]\n",
      " 10  loan_part_ttm_days                             1048 non-null   int64         \n",
      " 11  loan_part_blended_ltv                          1047 non-null   float64       \n",
      " 12  loan_part_gross_apr                            1018 non-null   float64       \n",
      " 13  loan_part_net_apr                              1018 non-null   float64       \n",
      " 14  loan_part_int_per                              1048 non-null   int64         \n",
      " 15  loan_part_gross_aer                            1048 non-null   float64       \n",
      " 16  loan_part_net_aer                              1048 non-null   float64       \n",
      " 17  loan_parts_in_loan                             1044 non-null   float64       \n",
      " 18  loan_part_maturity_extended_days               882 non-null    float64       \n",
      " 19  platform_weighted_maturity_extended_days       882 non-null    float64       \n",
      " 20  platform_weighted_net_aer                      1048 non-null   float64       \n",
      " 21  platform_weighted_blended_ltv                  1047 non-null   float64       \n",
      " 22  platform_weighted_term_months                  1047 non-null   float64       \n",
      " 23  platform_weighted_ttm_months                   1015 non-null   float64       \n",
      " 24  your_standard_notes                            0 non-null      float64       \n",
      " 25  your_isa_notes                                 0 non-null      float64       \n",
      " 26  loan_portion                                   1044 non-null   float64       \n",
      " 27  portfolio_weighted_maturity_extended_days      882 non-null    float64       \n",
      " 28  portfolio_weighted_ttm_months                  1015 non-null   float64       \n",
      " 29  portfolio_weighted_term_months                 1047 non-null   float64       \n",
      " 30  portfolio_weighted_net_aer                     1048 non-null   float64       \n",
      " 31  portfolio_weighted_net_aer_inc_nonib_cash      1048 non-null   float64       \n",
      " 32  portfolio_weighted_blended_ltv                 1047 non-null   float64       \n",
      " 33  portfolio_weighted_blended_ltv_inc_nonib_cash  1047 non-null   float64       \n",
      "dtypes: datetime64[ns](3), float64(24), int64(2), object(5)\n",
      "memory usage: 278.5+ KB\n"
     ]
    }
   ],
   "source": [
    "########################## LOAN PARTS ##########################\n",
    "loans_df = pd.concat([loanpad_df, proplend_df, crowdproperty_df, invest_fund_df, assetz_capital_df, kuflink_df], axis=0, ignore_index=True)\n",
    "loans_df['loan_portion'] = 1/loans_df['loan_parts_in_loan']\n",
    "portfolio_ib_cash = cash_df['ib_cash'].sum()\n",
    "portfolio_nonib_cash = cash_df['nonib_cash'].sum()\n",
    "portfolio_weight = loans_df['loan_part_amt']/(loans_df['loan_part_amt'].sum() + portfolio_ib_cash) # weighting inc. interest bearing cash\n",
    "portfolio_weight_inc_nonib_cash = loans_df['loan_part_amt']/(loans_df['loan_part_amt'].sum() + portfolio_ib_cash + portfolio_nonib_cash) # wighting inc. interest and non-interest bearing cash\n",
    "portfolio_weight_exc_negttm = loans_df['loan_part_amt']/loans_df.loc[loans_df['loan_part_ttm_days'] >= 0, 'loan_part_amt'].sum() # weighting exc. negative time to maturity (principal default)\n",
    "portfolio_weight_exc_negterm = loans_df['loan_part_amt']/loans_df.loc[loans_df['loan_part_term_months'] >= 0, 'loan_part_amt'].sum() # weighting exc. negative terms\n",
    "\n",
    "loans_df['portfolio_weighted_maturity_extended_days'] = loans_df['loan_part_maturity_extended_days']*portfolio_weight\n",
    "loans_df.loc[loans_df['loan_part_ttm_days'] >= 0, 'portfolio_weighted_ttm_months'] = loans_df['loan_part_ttm_days'] / 30.44 * portfolio_weight_exc_negttm # weighted ttm if not negative\n",
    "loans_df.loc[loans_df['loan_part_term_months'] >= 0, 'portfolio_weighted_term_months'] = loans_df['loan_part_term_months'] * portfolio_weight_exc_negterm # weighted term if not negative\n",
    "loans_df['portfolio_weighted_net_aer'] = loans_df['loan_part_net_aer']*portfolio_weight\n",
    "loans_df['portfolio_weighted_net_aer_inc_nonib_cash'] = loans_df['loan_part_net_aer']*portfolio_weight_inc_nonib_cash\n",
    "loans_df['portfolio_weighted_blended_ltv'] = loans_df['loan_part_blended_ltv']*portfolio_weight\n",
    "loans_df['portfolio_weighted_blended_ltv_inc_nonib_cash'] = loans_df['loan_part_blended_ltv']*portfolio_weight_inc_nonib_cash\n",
    "\n",
    "status_dict = {'Extended (No ICF)': 'Active',\n",
    "               'Active - Good Standing': 'Active', #Proplend\n",
    "               'Performing': 'Active', \n",
    "               'Pending Status Update': 'Active', \n",
    "               'Live': 'Active', \n",
    "               'Partially Repaid': 'Active', \n",
    "               'High': 'Active', \n",
    "               'Medium': 'Active', \n",
    "               'Medium High': 'Active', \n",
    "               'Medium Low': 'Active', \n",
    "               'Low': 'Active', \n",
    "               'Default': 'Interest Default', \n",
    "               'INTEREST IN ARREARS': 'Interest Default', # Proplend\n",
    "               'Default (No Suspension - No ICF)': 'Interest Default',\n",
    "               'Loan not yet started': 'Pledged' }\n",
    "for status in status_dict: # clean loanpart statuses\n",
    "    loans_df['loan_part_status'].mask(loans_df['loan_part_status'] == status, status_dict[status], inplace=True)\n",
    "    \n",
    "loans_df['loan_part_status'].mask(loans_df['loan_part_ttm_days'] <= 0, 'Short Default', inplace=True) # short default status if ttm is minus\n",
    "loans_df['loan_part_status'].mask(loans_df['loan_part_ttm_days'] <= -90, 'Long Default', inplace=True) # lonng default status if ttm is less than -90 days\n",
    "\n",
    "loans_df.to_csv('data/concatenated.csv', index=False)\n",
    "cash_df.to_csv('data/cash.csv', index=False)\n",
    "loans_df.info()"
   ]
  },
  {
   "cell_type": "code",
   "execution_count": null,
   "id": "7151c75e-3ba9-40f4-816f-ea2f538f3180",
   "metadata": {},
   "outputs": [],
   "source": [
    "########################## TRANSACTIONS ##########################\n",
    "trx_df = pd.concat([loanpad_trx_df, proplend_trx_df, crowdproperty_trx_df, invest_fund_trx_df, assetz_capital_trx_df, kuflink_trx_df], axis=0, ignore_index=True)\n",
    "\n",
    "trx_type_dict = { 'DEPOSIT' : 'Paid in Capital' # Proplend\n",
    "                }\n",
    "for trx_type in trx_type_dict: # clean transaction types\n",
    "    trx_df['trx_type'].mask(trx_df['trx_type'] == trx_type, trx_type_dict[trx_type], inplace=True)\n",
    "\n",
    "loans_df['loan_part_status'].mask(loans_df['loan_part_ttm_days'] <= 0, 'Short Default', inplace=True) # short default status if ttm is minus\n",
    "loans_df['loan_part_status'].mask(loans_df['loan_part_ttm_days'] <= -90, 'Long Default', inplace=True) # lonng default status if ttm is less than -90 days\n",
    "\n",
    "loans_df.to_csv('data/concatenated.csv', index=False)\n",
    "cash_df.to_csv('data/cash.csv', index=False)\n",
    "loans_df.info()"
   ]
  }
 ],
 "metadata": {
  "kernelspec": {
   "display_name": "Python 3 (ipykernel)",
   "language": "python",
   "name": "python3"
  },
  "language_info": {
   "codemirror_mode": {
    "name": "ipython",
    "version": 3
   },
   "file_extension": ".py",
   "mimetype": "text/x-python",
   "name": "python",
   "nbconvert_exporter": "python",
   "pygments_lexer": "ipython3",
   "version": "3.10.9"
  }
 },
 "nbformat": 4,
 "nbformat_minor": 5
}
